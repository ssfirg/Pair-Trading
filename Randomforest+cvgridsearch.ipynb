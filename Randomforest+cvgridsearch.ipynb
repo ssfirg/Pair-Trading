{
 "cells": [
  {
   "cell_type": "code",
   "execution_count": 3,
   "id": "acbdd14b",
   "metadata": {},
   "outputs": [],
   "source": [
    "import numpy as np\n",
    "import pandas as pd\n",
    "import matplotlib.pyplot as plt\n",
    "import statsmodels.api as sm\n",
    "import sklearn.metrics as mt\n",
    "from sklearn.tree import export_graphviz\n",
    "from sklearn.tree import DecisionTreeClassifier\n",
    "from sklearn.ensemble import RandomForestClassifier\n",
    "from sklearn.model_selection import TimeSeriesSplit\n",
    "from sklearn.model_selection import train_test_split\n",
    "from sklearn.model_selection import StratifiedShuffleSplit\n",
    "from sklearn.model_selection import cross_val_score\n",
    "from sklearn.model_selection import RandomizedSearchCV\n",
    "from sklearn.metrics import confusion_matrix\n",
    "\n",
    "from sklearn.ensemble import RandomForestRegressor\n",
    "from sklearn.model_selection import cross_val_score\n",
    "from sklearn.model_selection import GridSearchCV\n",
    "from sklearn.model_selection import train_test_split\n",
    "from sklearn.metrics import mean_squared_error\n",
    "import math"
   ]
  },
  {
   "cell_type": "code",
   "execution_count": 108,
   "id": "2bc3d852",
   "metadata": {},
   "outputs": [],
   "source": [
    "X = df.iloc[:,[0,1,2,3,4,5,9]]"
   ]
  },
  {
   "cell_type": "code",
   "execution_count": 98,
   "id": "5af62efa",
   "metadata": {},
   "outputs": [],
   "source": [
    "tscv = TimeSeriesSplit(n_splits=2)"
   ]
  },
  {
   "cell_type": "code",
   "execution_count": 6,
   "id": "f27776e3",
   "metadata": {},
   "outputs": [],
   "source": [
    "cycle, trend = sm.tsa.filters.hpfilter(realgdp,1600)"
   ]
  },
  {
   "cell_type": "code",
   "execution_count": 2,
   "id": "7130c917",
   "metadata": {},
   "outputs": [],
   "source": [
    "df = pd.read_excel(\"C:/Users/seongsh/Desktop/bt/making_index.xlsx\",sheet_name=0,index_col =0, header=0)"
   ]
  },
  {
   "cell_type": "code",
   "execution_count": 151,
   "id": "38ef349e",
   "metadata": {},
   "outputs": [],
   "source": [
    "X = df.iloc[:,:-1]\n",
    "y = df.iloc[:,-1]"
   ]
  },
  {
   "cell_type": "code",
   "execution_count": 154,
   "id": "f4a47da9",
   "metadata": {},
   "outputs": [],
   "source": [
    "X = np.log(X.resample(rule='1m').last()).diff().dropna()\n",
    "y = np.log(y.resample(rule='1m').last()).diff().dropna()"
   ]
  },
  {
   "cell_type": "code",
   "execution_count": 117,
   "id": "287f5295",
   "metadata": {},
   "outputs": [
    {
     "ename": "AttributeError",
     "evalue": "'Series' object has no attribute 'drona'",
     "output_type": "error",
     "traceback": [
      "\u001b[1;31m---------------------------------------------------------------------------\u001b[0m",
      "\u001b[1;31mAttributeError\u001b[0m                            Traceback (most recent call last)",
      "Input \u001b[1;32mIn [117]\u001b[0m, in \u001b[0;36m<cell line: 2>\u001b[1;34m()\u001b[0m\n\u001b[0;32m      1\u001b[0m X \u001b[38;5;241m=\u001b[39m np\u001b[38;5;241m.\u001b[39mlog(X)\u001b[38;5;241m.\u001b[39mdiff()\u001b[38;5;241m.\u001b[39mdropna()\n\u001b[1;32m----> 2\u001b[0m y \u001b[38;5;241m=\u001b[39m \u001b[43mnp\u001b[49m\u001b[38;5;241;43m.\u001b[39;49m\u001b[43mlog\u001b[49m\u001b[43m(\u001b[49m\u001b[43my\u001b[49m\u001b[43m)\u001b[49m\u001b[38;5;241;43m.\u001b[39;49m\u001b[43mdiff\u001b[49m\u001b[43m(\u001b[49m\u001b[43m)\u001b[49m\u001b[38;5;241;43m.\u001b[39;49m\u001b[43mdrona\u001b[49m()\n",
      "File \u001b[1;32m~\\Anaconda3\\envs\\py38_64\\lib\\site-packages\\pandas\\core\\generic.py:5575\u001b[0m, in \u001b[0;36mNDFrame.__getattr__\u001b[1;34m(self, name)\u001b[0m\n\u001b[0;32m   5568\u001b[0m \u001b[38;5;28;01mif\u001b[39;00m (\n\u001b[0;32m   5569\u001b[0m     name \u001b[38;5;129;01mnot\u001b[39;00m \u001b[38;5;129;01min\u001b[39;00m \u001b[38;5;28mself\u001b[39m\u001b[38;5;241m.\u001b[39m_internal_names_set\n\u001b[0;32m   5570\u001b[0m     \u001b[38;5;129;01mand\u001b[39;00m name \u001b[38;5;129;01mnot\u001b[39;00m \u001b[38;5;129;01min\u001b[39;00m \u001b[38;5;28mself\u001b[39m\u001b[38;5;241m.\u001b[39m_metadata\n\u001b[0;32m   5571\u001b[0m     \u001b[38;5;129;01mand\u001b[39;00m name \u001b[38;5;129;01mnot\u001b[39;00m \u001b[38;5;129;01min\u001b[39;00m \u001b[38;5;28mself\u001b[39m\u001b[38;5;241m.\u001b[39m_accessors\n\u001b[0;32m   5572\u001b[0m     \u001b[38;5;129;01mand\u001b[39;00m \u001b[38;5;28mself\u001b[39m\u001b[38;5;241m.\u001b[39m_info_axis\u001b[38;5;241m.\u001b[39m_can_hold_identifiers_and_holds_name(name)\n\u001b[0;32m   5573\u001b[0m ):\n\u001b[0;32m   5574\u001b[0m     \u001b[38;5;28;01mreturn\u001b[39;00m \u001b[38;5;28mself\u001b[39m[name]\n\u001b[1;32m-> 5575\u001b[0m \u001b[38;5;28;01mreturn\u001b[39;00m \u001b[38;5;28;43mobject\u001b[39;49m\u001b[38;5;241;43m.\u001b[39;49m\u001b[38;5;21;43m__getattribute__\u001b[39;49m\u001b[43m(\u001b[49m\u001b[38;5;28;43mself\u001b[39;49m\u001b[43m,\u001b[49m\u001b[43m \u001b[49m\u001b[43mname\u001b[49m\u001b[43m)\u001b[49m\n",
      "\u001b[1;31mAttributeError\u001b[0m: 'Series' object has no attribute 'drona'"
     ]
    }
   ],
   "source": [
    "X = np.log(X).diff().dropna()\n",
    "y = np.log(y).diff().drona()"
   ]
  },
  {
   "cell_type": "code",
   "execution_count": 156,
   "id": "45d3e2f9",
   "metadata": {},
   "outputs": [
    {
     "name": "stdout",
     "output_type": "stream",
     "text": [
      "            M2% YOY Index  CSI BARC Index  GSUSFCI Index  NAPMEXPT Index  \\\n",
      "2005-03-31      -0.101096        0.295947       0.003015       -0.025091   \n",
      "2005-04-30      -0.088947        0.187964       0.000802        0.033902   \n",
      "2005-05-31      -0.264693        0.000000      -0.001003       -0.030278   \n",
      "2005-06-30       0.141079       -0.025908      -0.002110       -0.077033   \n",
      "2005-07-31       0.051293       -0.165147      -0.000604        0.086034   \n",
      "...                   ...             ...            ...             ...   \n",
      "2010-09-30       0.105361       -0.124273      -0.006072       -0.032671   \n",
      "2010-10-31       0.095310       -0.122520      -0.001699        0.069485   \n",
      "2010-11-30      -0.030772        0.085942       0.002198       -0.042186   \n",
      "2010-12-31       0.117783       -0.189405      -0.003499       -0.072590   \n",
      "2011-01-31       0.177681       -0.145108      -0.000802        0.181356   \n",
      "\n",
      "            CONSSENT Index  CONSEXP Index  OEUSDHAO Index  OEA5DHAO Index  \\\n",
      "2005-03-31       -0.016069      -0.019139       -0.002191        0.002257   \n",
      "2005-04-30       -0.054367      -0.072623       -0.002295       -0.001766   \n",
      "2005-05-31       -0.009164      -0.022325       -0.001100       -0.005218   \n",
      "2005-06-30        0.099590       0.121171        0.001399       -0.004254   \n",
      "2005-07-31        0.005195       0.005865        0.002295       -0.000893   \n",
      "...                    ...            ...             ...             ...   \n",
      "2010-09-30       -0.010212      -0.032313        0.001194        0.004555   \n",
      "2010-10-31       -0.007358       0.016287        0.002385        0.003649   \n",
      "2010-11-30        0.056009       0.045785        0.002478        0.000886   \n",
      "2010-12-31        0.039704       0.040822        0.001879       -0.002363   \n",
      "2011-01-31       -0.004035       0.026317        0.001481       -0.003160   \n",
      "\n",
      "            OEOEDHAO Index  CPMINDX Index  \n",
      "2005-03-31       -0.002600       0.060517  \n",
      "2005-04-30       -0.002306      -0.020943  \n",
      "2005-05-31       -0.000803      -0.069371  \n",
      "2005-06-30        0.000502      -0.022946  \n",
      "2005-07-31        0.001906      -0.011673  \n",
      "...                    ...            ...  \n",
      "2010-09-30        0.001294       0.039816  \n",
      "2010-10-31        0.001094       0.016590  \n",
      "2010-11-30        0.001291       0.009099  \n",
      "2010-12-31        0.001884      -0.023832  \n",
      "2011-01-31        0.001188      -0.018727  \n",
      "\n",
      "[71 rows x 10 columns]\n",
      "            M2% YOY Index  CSI BARC Index  GSUSFCI Index  NAPMEXPT Index  \\\n",
      "2005-03-31      -0.101096        0.295947       0.003015       -0.025091   \n",
      "2005-04-30      -0.088947        0.187964       0.000802        0.033902   \n",
      "2005-05-31      -0.264693        0.000000      -0.001003       -0.030278   \n",
      "2005-06-30       0.141079       -0.025908      -0.002110       -0.077033   \n",
      "2005-07-31       0.051293       -0.165147      -0.000604        0.086034   \n",
      "...                   ...             ...            ...             ...   \n",
      "2016-08-31       0.042560       -0.106206       0.000301       -0.017192   \n",
      "2016-09-30       0.000000       -0.032226       0.000502        0.003846   \n",
      "2016-10-31       0.027399       -0.028795       0.002804       -0.011583   \n",
      "2016-11-30      -0.027399       -0.062593       0.002198        0.005808   \n",
      "2016-12-31      -0.028171       -0.127398      -0.001098        0.081527   \n",
      "\n",
      "            CONSSENT Index  CONSEXP Index  OEUSDHAO Index  OEA5DHAO Index  \\\n",
      "2005-03-31       -0.016069      -0.019139       -0.002191        0.002257   \n",
      "2005-04-30       -0.054367      -0.072623       -0.002295       -0.001766   \n",
      "2005-05-31       -0.009164      -0.022325       -0.001100       -0.005218   \n",
      "2005-06-30        0.099590       0.121171        0.001399       -0.004254   \n",
      "2005-07-31        0.005195       0.005865        0.002295       -0.000893   \n",
      "...                    ...            ...             ...             ...   \n",
      "2016-08-31       -0.002225       0.011502       -0.001607        0.000912   \n",
      "2016-09-30        0.015470       0.049576        0.000402        0.001923   \n",
      "2016-10-31       -0.044851      -0.074015        0.001807        0.003029   \n",
      "2016-11-30        0.072961       0.103797        0.002804        0.002618   \n",
      "2016-12-31        0.045841       0.049237        0.003295        0.001306   \n",
      "\n",
      "            OEOEDHAO Index  CPMINDX Index  \n",
      "2005-03-31       -0.002600       0.060517  \n",
      "2005-04-30       -0.002306      -0.020943  \n",
      "2005-05-31       -0.000803      -0.069371  \n",
      "2005-06-30        0.000502      -0.022946  \n",
      "2005-07-31        0.001906      -0.011673  \n",
      "...                    ...            ...  \n",
      "2016-08-31       -0.000099       0.009970  \n",
      "2016-09-30        0.001094       0.000000  \n",
      "2016-10-31        0.001192       0.015748  \n",
      "2016-11-30        0.001388       0.009718  \n",
      "2016-12-31        0.000991      -0.005820  \n",
      "\n",
      "[142 rows x 10 columns]\n"
     ]
    }
   ],
   "source": [
    "for train_index, test_index in tscv.split(X):\n",
    "    X_train, X_test = X.iloc[train_index], X.iloc[test_index]\n",
    "    y_train, y_test = y.iloc[train_index], y.iloc[test_index]\n",
    "    print(X_train)"
   ]
  },
  {
   "cell_type": "code",
   "execution_count": 155,
   "id": "d08e1f38",
   "metadata": {},
   "outputs": [],
   "source": [
    "params = {\n",
    "    'n_estimators':(100, 200),\n",
    "    'max_depth' : (2, 8),\n",
    "    'min_samples_leaf' : (1, 5),\n",
    "    'min_samples_split' : (2, 6),\n",
    "    'max_features':[2,3,4,5,6]\n",
    "}"
   ]
  },
  {
   "cell_type": "code",
   "execution_count": 157,
   "id": "b57f7c50",
   "metadata": {},
   "outputs": [
    {
     "name": "stdout",
     "output_type": "stream",
     "text": [
      "최적 하이퍼 파라미터: {'max_depth': 8, 'max_features': 3, 'min_samples_leaf': 1, 'min_samples_split': 6, 'n_estimators': 200}\n",
      "최적 예측 정확도: 0.3193\n"
     ]
    }
   ],
   "source": [
    "rf_run = RandomForestRegressor(random_state=0, n_jobs=-1)\n",
    "grid_cv = GridSearchCV(rf_run, param_grid=params, cv=2, n_jobs=-1)\n",
    "grid_cv.fit(X_train, y_train)\n",
    " \n",
    " \n",
    "print('최적 하이퍼 파라미터:', grid_cv.best_params_)\n",
    "print('최적 예측 정확도: {0:.4f}'.format(grid_cv.best_score_))"
   ]
  },
  {
   "cell_type": "code",
   "execution_count": null,
   "id": "3551e49c",
   "metadata": {},
   "outputs": [],
   "source": []
  },
  {
   "cell_type": "code",
   "execution_count": 158,
   "id": "0f8ae87b",
   "metadata": {},
   "outputs": [
    {
     "data": {
      "text/html": [
       "<style>#sk-container-id-4 {color: black;background-color: white;}#sk-container-id-4 pre{padding: 0;}#sk-container-id-4 div.sk-toggleable {background-color: white;}#sk-container-id-4 label.sk-toggleable__label {cursor: pointer;display: block;width: 100%;margin-bottom: 0;padding: 0.3em;box-sizing: border-box;text-align: center;}#sk-container-id-4 label.sk-toggleable__label-arrow:before {content: \"▸\";float: left;margin-right: 0.25em;color: #696969;}#sk-container-id-4 label.sk-toggleable__label-arrow:hover:before {color: black;}#sk-container-id-4 div.sk-estimator:hover label.sk-toggleable__label-arrow:before {color: black;}#sk-container-id-4 div.sk-toggleable__content {max-height: 0;max-width: 0;overflow: hidden;text-align: left;background-color: #f0f8ff;}#sk-container-id-4 div.sk-toggleable__content pre {margin: 0.2em;color: black;border-radius: 0.25em;background-color: #f0f8ff;}#sk-container-id-4 input.sk-toggleable__control:checked~div.sk-toggleable__content {max-height: 200px;max-width: 100%;overflow: auto;}#sk-container-id-4 input.sk-toggleable__control:checked~label.sk-toggleable__label-arrow:before {content: \"▾\";}#sk-container-id-4 div.sk-estimator input.sk-toggleable__control:checked~label.sk-toggleable__label {background-color: #d4ebff;}#sk-container-id-4 div.sk-label input.sk-toggleable__control:checked~label.sk-toggleable__label {background-color: #d4ebff;}#sk-container-id-4 input.sk-hidden--visually {border: 0;clip: rect(1px 1px 1px 1px);clip: rect(1px, 1px, 1px, 1px);height: 1px;margin: -1px;overflow: hidden;padding: 0;position: absolute;width: 1px;}#sk-container-id-4 div.sk-estimator {font-family: monospace;background-color: #f0f8ff;border: 1px dotted black;border-radius: 0.25em;box-sizing: border-box;margin-bottom: 0.5em;}#sk-container-id-4 div.sk-estimator:hover {background-color: #d4ebff;}#sk-container-id-4 div.sk-parallel-item::after {content: \"\";width: 100%;border-bottom: 1px solid gray;flex-grow: 1;}#sk-container-id-4 div.sk-label:hover label.sk-toggleable__label {background-color: #d4ebff;}#sk-container-id-4 div.sk-serial::before {content: \"\";position: absolute;border-left: 1px solid gray;box-sizing: border-box;top: 0;bottom: 0;left: 50%;z-index: 0;}#sk-container-id-4 div.sk-serial {display: flex;flex-direction: column;align-items: center;background-color: white;padding-right: 0.2em;padding-left: 0.2em;position: relative;}#sk-container-id-4 div.sk-item {position: relative;z-index: 1;}#sk-container-id-4 div.sk-parallel {display: flex;align-items: stretch;justify-content: center;background-color: white;position: relative;}#sk-container-id-4 div.sk-item::before, #sk-container-id-4 div.sk-parallel-item::before {content: \"\";position: absolute;border-left: 1px solid gray;box-sizing: border-box;top: 0;bottom: 0;left: 50%;z-index: -1;}#sk-container-id-4 div.sk-parallel-item {display: flex;flex-direction: column;z-index: 1;position: relative;background-color: white;}#sk-container-id-4 div.sk-parallel-item:first-child::after {align-self: flex-end;width: 50%;}#sk-container-id-4 div.sk-parallel-item:last-child::after {align-self: flex-start;width: 50%;}#sk-container-id-4 div.sk-parallel-item:only-child::after {width: 0;}#sk-container-id-4 div.sk-dashed-wrapped {border: 1px dashed gray;margin: 0 0.4em 0.5em 0.4em;box-sizing: border-box;padding-bottom: 0.4em;background-color: white;}#sk-container-id-4 div.sk-label label {font-family: monospace;font-weight: bold;display: inline-block;line-height: 1.2em;}#sk-container-id-4 div.sk-label-container {text-align: center;}#sk-container-id-4 div.sk-container {/* jupyter's `normalize.less` sets `[hidden] { display: none; }` but bootstrap.min.css set `[hidden] { display: none !important; }` so we also need the `!important` here to be able to override the default hidden behavior on the sphinx rendered scikit-learn.org. See: https://github.com/scikit-learn/scikit-learn/issues/21755 */display: inline-block !important;position: relative;}#sk-container-id-4 div.sk-text-repr-fallback {display: none;}</style><div id=\"sk-container-id-4\" class=\"sk-top-container\"><div class=\"sk-text-repr-fallback\"><pre>RandomForestRegressor(max_depth=8, max_features=3, min_samples_split=6,\n",
       "                      n_estimators=200, random_state=0)</pre><b>In a Jupyter environment, please rerun this cell to show the HTML representation or trust the notebook. <br />On GitHub, the HTML representation is unable to render, please try loading this page with nbviewer.org.</b></div><div class=\"sk-container\" hidden><div class=\"sk-item\"><div class=\"sk-estimator sk-toggleable\"><input class=\"sk-toggleable__control sk-hidden--visually\" id=\"sk-estimator-id-4\" type=\"checkbox\" checked><label for=\"sk-estimator-id-4\" class=\"sk-toggleable__label sk-toggleable__label-arrow\">RandomForestRegressor</label><div class=\"sk-toggleable__content\"><pre>RandomForestRegressor(max_depth=8, max_features=3, min_samples_split=6,\n",
       "                      n_estimators=200, random_state=0)</pre></div></div></div></div></div>"
      ],
      "text/plain": [
       "RandomForestRegressor(max_depth=8, max_features=3, min_samples_split=6,\n",
       "                      n_estimators=200, random_state=0)"
      ]
     },
     "execution_count": 158,
     "metadata": {},
     "output_type": "execute_result"
    }
   ],
   "source": [
    "# 랜덤포레스트 득점모델 학습\n",
    "rf_run = RandomForestRegressor(random_state=0, max_depth=8, max_features = 3,min_samples_leaf=1, min_samples_split=6 ,n_estimators=200)\n",
    "rf_run.fit(X_train, y_train)\n"
   ]
  },
  {
   "cell_type": "code",
   "execution_count": 159,
   "id": "6607d31d",
   "metadata": {},
   "outputs": [],
   "source": [
    "train_predict = rf_run.predict(X_train)"
   ]
  },
  {
   "cell_type": "code",
   "execution_count": 160,
   "id": "62b4317d",
   "metadata": {},
   "outputs": [
    {
     "name": "stdout",
     "output_type": "stream",
     "text": [
      "RMSE':0.0005507092372071868\n"
     ]
    }
   ],
   "source": [
    "print(\"RMSE':{}\".format(math.sqrt(mean_squared_error(train_predict, y_train))) )"
   ]
  },
  {
   "cell_type": "code",
   "execution_count": 168,
   "id": "ca9e105a",
   "metadata": {},
   "outputs": [],
   "source": [
    "train_predict = rf_run.predict(X_test)"
   ]
  },
  {
   "cell_type": "code",
   "execution_count": 169,
   "id": "98e9bdef",
   "metadata": {},
   "outputs": [
    {
     "name": "stdout",
     "output_type": "stream",
     "text": [
      "RMSE':0.007706035139730527\n"
     ]
    }
   ],
   "source": [
    "print(\"RMSE':{}\".format(math.sqrt(mean_squared_error(train_predict, y_test))) )"
   ]
  },
  {
   "cell_type": "code",
   "execution_count": 171,
   "id": "03d39cd3",
   "metadata": {},
   "outputs": [
    {
     "data": {
      "text/plain": [
       "<AxesSubplot:>"
      ]
     },
     "execution_count": 171,
     "metadata": {},
     "output_type": "execute_result"
    },
    {
     "data": {
      "image/png": "[encoded data removed]",
      "text/plain": [
       "<Figure size 432x288 with 1 Axes>"
      ]
     },
     "metadata": {
      "needs_background": "light"
     },
     "output_type": "display_data"
    }
   ],
   "source": [
    "pd.DataFrame([train_predict,y_test]).transpose().plot()"
   ]
  },
  {
   "cell_type": "code",
   "execution_count": 176,
   "id": "ef79aa28",
   "metadata": {},
   "outputs": [
    {
     "data": {
      "text/html": [
       "<div>\n",
       "<style scoped>\n",
       "    .dataframe tbody tr th:only-of-type {\n",
       "        vertical-align: middle;\n",
       "    }\n",
       "\n",
       "    .dataframe tbody tr th {\n",
       "        vertical-align: top;\n",
       "    }\n",
       "\n",
       "    .dataframe thead th {\n",
       "        text-align: right;\n",
       "    }\n",
       "</style>\n",
       "<table border=\"1\" class=\"dataframe\">\n",
       "  <thead>\n",
       "    <tr style=\"text-align: right;\">\n",
       "      <th></th>\n",
       "      <th>mean_fit_time</th>\n",
       "      <th>std_fit_time</th>\n",
       "      <th>mean_score_time</th>\n",
       "      <th>std_score_time</th>\n",
       "      <th>param_max_depth</th>\n",
       "      <th>param_max_features</th>\n",
       "      <th>param_min_samples_leaf</th>\n",
       "      <th>param_min_samples_split</th>\n",
       "      <th>param_n_estimators</th>\n",
       "      <th>params</th>\n",
       "      <th>split0_test_score</th>\n",
       "      <th>split1_test_score</th>\n",
       "      <th>mean_test_score</th>\n",
       "      <th>std_test_score</th>\n",
       "      <th>rank_test_score</th>\n",
       "    </tr>\n",
       "  </thead>\n",
       "  <tbody>\n",
       "    <tr>\n",
       "      <th>0</th>\n",
       "      <td>0.553047</td>\n",
       "      <td>0.026269</td>\n",
       "      <td>0.056908</td>\n",
       "      <td>0.002550</td>\n",
       "      <td>2</td>\n",
       "      <td>2</td>\n",
       "      <td>1</td>\n",
       "      <td>2</td>\n",
       "      <td>100</td>\n",
       "      <td>{'max_depth': 2, 'max_features': 2, 'min_sampl...</td>\n",
       "      <td>0.221301</td>\n",
       "      <td>0.057068</td>\n",
       "      <td>0.139184</td>\n",
       "      <td>0.082117</td>\n",
       "      <td>80</td>\n",
       "    </tr>\n",
       "    <tr>\n",
       "      <th>1</th>\n",
       "      <td>1.002748</td>\n",
       "      <td>0.030291</td>\n",
       "      <td>0.099549</td>\n",
       "      <td>0.006522</td>\n",
       "      <td>2</td>\n",
       "      <td>2</td>\n",
       "      <td>1</td>\n",
       "      <td>2</td>\n",
       "      <td>200</td>\n",
       "      <td>{'max_depth': 2, 'max_features': 2, 'min_sampl...</td>\n",
       "      <td>0.224459</td>\n",
       "      <td>0.073212</td>\n",
       "      <td>0.148836</td>\n",
       "      <td>0.075623</td>\n",
       "      <td>79</td>\n",
       "    </tr>\n",
       "    <tr>\n",
       "      <th>2</th>\n",
       "      <td>0.530371</td>\n",
       "      <td>0.003539</td>\n",
       "      <td>0.060687</td>\n",
       "      <td>0.000762</td>\n",
       "      <td>2</td>\n",
       "      <td>2</td>\n",
       "      <td>1</td>\n",
       "      <td>6</td>\n",
       "      <td>100</td>\n",
       "      <td>{'max_depth': 2, 'max_features': 2, 'min_sampl...</td>\n",
       "      <td>0.223466</td>\n",
       "      <td>0.164114</td>\n",
       "      <td>0.193790</td>\n",
       "      <td>0.029676</td>\n",
       "      <td>71</td>\n",
       "    </tr>\n",
       "    <tr>\n",
       "      <th>3</th>\n",
       "      <td>1.061600</td>\n",
       "      <td>0.064419</td>\n",
       "      <td>0.091109</td>\n",
       "      <td>0.004040</td>\n",
       "      <td>2</td>\n",
       "      <td>2</td>\n",
       "      <td>1</td>\n",
       "      <td>6</td>\n",
       "      <td>200</td>\n",
       "      <td>{'max_depth': 2, 'max_features': 2, 'min_sampl...</td>\n",
       "      <td>0.227605</td>\n",
       "      <td>0.150714</td>\n",
       "      <td>0.189159</td>\n",
       "      <td>0.038446</td>\n",
       "      <td>74</td>\n",
       "    </tr>\n",
       "    <tr>\n",
       "      <th>4</th>\n",
       "      <td>0.537489</td>\n",
       "      <td>0.001651</td>\n",
       "      <td>0.061774</td>\n",
       "      <td>0.003914</td>\n",
       "      <td>2</td>\n",
       "      <td>2</td>\n",
       "      <td>5</td>\n",
       "      <td>2</td>\n",
       "      <td>100</td>\n",
       "      <td>{'max_depth': 2, 'max_features': 2, 'min_sampl...</td>\n",
       "      <td>0.198324</td>\n",
       "      <td>0.334015</td>\n",
       "      <td>0.266169</td>\n",
       "      <td>0.067846</td>\n",
       "      <td>42</td>\n",
       "    </tr>\n",
       "    <tr>\n",
       "      <th>...</th>\n",
       "      <td>...</td>\n",
       "      <td>...</td>\n",
       "      <td>...</td>\n",
       "      <td>...</td>\n",
       "      <td>...</td>\n",
       "      <td>...</td>\n",
       "      <td>...</td>\n",
       "      <td>...</td>\n",
       "      <td>...</td>\n",
       "      <td>...</td>\n",
       "      <td>...</td>\n",
       "      <td>...</td>\n",
       "      <td>...</td>\n",
       "      <td>...</td>\n",
       "      <td>...</td>\n",
       "    </tr>\n",
       "    <tr>\n",
       "      <th>75</th>\n",
       "      <td>1.044916</td>\n",
       "      <td>0.051902</td>\n",
       "      <td>0.101783</td>\n",
       "      <td>0.008986</td>\n",
       "      <td>8</td>\n",
       "      <td>6</td>\n",
       "      <td>1</td>\n",
       "      <td>6</td>\n",
       "      <td>200</td>\n",
       "      <td>{'max_depth': 8, 'max_features': 6, 'min_sampl...</td>\n",
       "      <td>0.373686</td>\n",
       "      <td>0.061443</td>\n",
       "      <td>0.217565</td>\n",
       "      <td>0.156121</td>\n",
       "      <td>65</td>\n",
       "    </tr>\n",
       "    <tr>\n",
       "      <th>76</th>\n",
       "      <td>0.448009</td>\n",
       "      <td>0.036942</td>\n",
       "      <td>0.062057</td>\n",
       "      <td>0.001946</td>\n",
       "      <td>8</td>\n",
       "      <td>6</td>\n",
       "      <td>5</td>\n",
       "      <td>2</td>\n",
       "      <td>100</td>\n",
       "      <td>{'max_depth': 8, 'max_features': 6, 'min_sampl...</td>\n",
       "      <td>0.353443</td>\n",
       "      <td>-0.018577</td>\n",
       "      <td>0.167433</td>\n",
       "      <td>0.186010</td>\n",
       "      <td>75</td>\n",
       "    </tr>\n",
       "    <tr>\n",
       "      <th>77</th>\n",
       "      <td>0.986422</td>\n",
       "      <td>0.013949</td>\n",
       "      <td>0.065789</td>\n",
       "      <td>0.003039</td>\n",
       "      <td>8</td>\n",
       "      <td>6</td>\n",
       "      <td>5</td>\n",
       "      <td>2</td>\n",
       "      <td>200</td>\n",
       "      <td>{'max_depth': 8, 'max_features': 6, 'min_sampl...</td>\n",
       "      <td>0.350281</td>\n",
       "      <td>-0.034402</td>\n",
       "      <td>0.157940</td>\n",
       "      <td>0.192342</td>\n",
       "      <td>77</td>\n",
       "    </tr>\n",
       "    <tr>\n",
       "      <th>78</th>\n",
       "      <td>0.517748</td>\n",
       "      <td>0.002358</td>\n",
       "      <td>0.051003</td>\n",
       "      <td>0.000125</td>\n",
       "      <td>8</td>\n",
       "      <td>6</td>\n",
       "      <td>5</td>\n",
       "      <td>6</td>\n",
       "      <td>100</td>\n",
       "      <td>{'max_depth': 8, 'max_features': 6, 'min_sampl...</td>\n",
       "      <td>0.353443</td>\n",
       "      <td>-0.018577</td>\n",
       "      <td>0.167433</td>\n",
       "      <td>0.186010</td>\n",
       "      <td>75</td>\n",
       "    </tr>\n",
       "    <tr>\n",
       "      <th>79</th>\n",
       "      <td>0.860978</td>\n",
       "      <td>0.009162</td>\n",
       "      <td>0.049880</td>\n",
       "      <td>0.000031</td>\n",
       "      <td>8</td>\n",
       "      <td>6</td>\n",
       "      <td>5</td>\n",
       "      <td>6</td>\n",
       "      <td>200</td>\n",
       "      <td>{'max_depth': 8, 'max_features': 6, 'min_sampl...</td>\n",
       "      <td>0.350281</td>\n",
       "      <td>-0.034402</td>\n",
       "      <td>0.157940</td>\n",
       "      <td>0.192342</td>\n",
       "      <td>78</td>\n",
       "    </tr>\n",
       "  </tbody>\n",
       "</table>\n",
       "<p>80 rows × 15 columns</p>\n",
       "</div>"
      ],
      "text/plain": [
       "    mean_fit_time  std_fit_time  mean_score_time  std_score_time  \\\n",
       "0        0.553047      0.026269         0.056908        0.002550   \n",
       "1        1.002748      0.030291         0.099549        0.006522   \n",
       "2        0.530371      0.003539         0.060687        0.000762   \n",
       "3        1.061600      0.064419         0.091109        0.004040   \n",
       "4        0.537489      0.001651         0.061774        0.003914   \n",
       "..            ...           ...              ...             ...   \n",
       "75       1.044916      0.051902         0.101783        0.008986   \n",
       "76       0.448009      0.036942         0.062057        0.001946   \n",
       "77       0.986422      0.013949         0.065789        0.003039   \n",
       "78       0.517748      0.002358         0.051003        0.000125   \n",
       "79       0.860978      0.009162         0.049880        0.000031   \n",
       "\n",
       "   param_max_depth param_max_features param_min_samples_leaf  \\\n",
       "0                2                  2                      1   \n",
       "1                2                  2                      1   \n",
       "2                2                  2                      1   \n",
       "3                2                  2                      1   \n",
       "4                2                  2                      5   \n",
       "..             ...                ...                    ...   \n",
       "75               8                  6                      1   \n",
       "76               8                  6                      5   \n",
       "77               8                  6                      5   \n",
       "78               8                  6                      5   \n",
       "79               8                  6                      5   \n",
       "\n",
       "   param_min_samples_split param_n_estimators  \\\n",
       "0                        2                100   \n",
       "1                        2                200   \n",
       "2                        6                100   \n",
       "3                        6                200   \n",
       "4                        2                100   \n",
       "..                     ...                ...   \n",
       "75                       6                200   \n",
       "76                       2                100   \n",
       "77                       2                200   \n",
       "78                       6                100   \n",
       "79                       6                200   \n",
       "\n",
       "                                               params  split0_test_score  \\\n",
       "0   {'max_depth': 2, 'max_features': 2, 'min_sampl...           0.221301   \n",
       "1   {'max_depth': 2, 'max_features': 2, 'min_sampl...           0.224459   \n",
       "2   {'max_depth': 2, 'max_features': 2, 'min_sampl...           0.223466   \n",
       "3   {'max_depth': 2, 'max_features': 2, 'min_sampl...           0.227605   \n",
       "4   {'max_depth': 2, 'max_features': 2, 'min_sampl...           0.198324   \n",
       "..                                                ...                ...   \n",
       "75  {'max_depth': 8, 'max_features': 6, 'min_sampl...           0.373686   \n",
       "76  {'max_depth': 8, 'max_features': 6, 'min_sampl...           0.353443   \n",
       "77  {'max_depth': 8, 'max_features': 6, 'min_sampl...           0.350281   \n",
       "78  {'max_depth': 8, 'max_features': 6, 'min_sampl...           0.353443   \n",
       "79  {'max_depth': 8, 'max_features': 6, 'min_sampl...           0.350281   \n",
       "\n",
       "    split1_test_score  mean_test_score  std_test_score  rank_test_score  \n",
       "0            0.057068         0.139184        0.082117               80  \n",
       "1            0.073212         0.148836        0.075623               79  \n",
       "2            0.164114         0.193790        0.029676               71  \n",
       "3            0.150714         0.189159        0.038446               74  \n",
       "4            0.334015         0.266169        0.067846               42  \n",
       "..                ...              ...             ...              ...  \n",
       "75           0.061443         0.217565        0.156121               65  \n",
       "76          -0.018577         0.167433        0.186010               75  \n",
       "77          -0.034402         0.157940        0.192342               77  \n",
       "78          -0.018577         0.167433        0.186010               75  \n",
       "79          -0.034402         0.157940        0.192342               78  \n",
       "\n",
       "[80 rows x 15 columns]"
      ]
     },
     "execution_count": 176,
     "metadata": {},
     "output_type": "execute_result"
    }
   ],
   "source": [
    "pd.DataFrame(grid_cv.cv_results_)"
   ]
  },
  {
   "cell_type": "code",
   "execution_count": 172,
   "id": "4dac6e5d",
   "metadata": {},
   "outputs": [
    {
     "data": {
      "image/png": "[encoded data removed]",
      "text/plain": [
       "<Figure size 576x432 with 1 Axes>"
      ]
     },
     "metadata": {
      "needs_background": "light"
     },
     "output_type": "display_data"
    }
   ],
   "source": [
    "import matplotlib.pyplot as plt # 득점모델 변수 중요도\n",
    "import seaborn as sns\n",
    "%matplotlib inline\n",
    " \n",
    "ftr_importances_values = rf_run.feature_importances_\n",
    "ftr_importances = pd.Series(ftr_importances_values, index=X_train.columns)\n",
    "ftr_top = ftr_importances.sort_values(ascending=False)[:20]\n",
    " \n",
    "plt.figure(figsize=(8, 6))\n",
    "sns.barplot(x=ftr_top, y=ftr_top.index)\n",
    "plt.show()\n"
   ]
  },
  {
   "cell_type": "code",
   "execution_count": 28,
   "id": "0088e4e1",
   "metadata": {},
   "outputs": [],
   "source": [
    "cycle, trend = sm.tsa.filters.hpfilter(df.iloc[:,0],144000000)"
   ]
  },
  {
   "cell_type": "code",
   "execution_count": 29,
   "id": "2e4295ae",
   "metadata": {},
   "outputs": [
    {
     "data": {
      "text/plain": [
       "<AxesSubplot:>"
      ]
     },
     "execution_count": 29,
     "metadata": {},
     "output_type": "execute_result"
    },
    {
     "data": {
      "image/png": "[encoded data removed]",
      "text/plain": [
       "<Figure size 432x288 with 1 Axes>"
      ]
     },
     "metadata": {
      "needs_background": "light"
     },
     "output_type": "display_data"
    }
   ],
   "source": [
    "df.iloc[:,0].plot()\n",
    "trend.plot()"
   ]
  },
  {
   "cell_type": "code",
   "execution_count": 33,
   "id": "bdb3595b",
   "metadata": {},
   "outputs": [],
   "source": [
    "import numpy as np"
   ]
  },
  {
   "cell_type": "code",
   "execution_count": 46,
   "id": "b85f7af2",
   "metadata": {},
   "outputs": [],
   "source": [
    "cycle, trend  = sm.tsa.filters.hpfilter(np.log(df).iloc[:,0],10000000)"
   ]
  },
  {
   "cell_type": "code",
   "execution_count": 47,
   "id": "948fae67",
   "metadata": {},
   "outputs": [
    {
     "data": {
      "text/plain": [
       "<AxesSubplot:>"
      ]
     },
     "execution_count": 47,
     "metadata": {},
     "output_type": "execute_result"
    },
    {
     "data": {
      "image/png": "[encoded data removed]",
      "text/plain": [
       "<Figure size 432x288 with 1 Axes>"
      ]
     },
     "metadata": {
      "needs_background": "light"
     },
     "output_type": "display_data"
    }
   ],
   "source": [
    "np.log(df).iloc[:,0].plot()\n",
    "trend.plot()"
   ]
  },
  {
   "cell_type": "code",
   "execution_count": 48,
   "id": "d221ce79",
   "metadata": {},
   "outputs": [
    {
     "ename": "FileNotFoundError",
     "evalue": "[Errno 2] No such file or directory: 'png/simple_kalman_filter.png'",
     "output_type": "error",
     "traceback": [
      "\u001b[1;31m---------------------------------------------------------------------------\u001b[0m",
      "\u001b[1;31mFileNotFoundError\u001b[0m                         Traceback (most recent call last)",
      "Input \u001b[1;32mIn [48]\u001b[0m, in \u001b[0;36m<cell line: 58>\u001b[1;34m()\u001b[0m\n\u001b[0;32m     56\u001b[0m plt\u001b[38;5;241m.\u001b[39mxlabel(\u001b[38;5;124m'\u001b[39m\u001b[38;5;124mTime [sec]\u001b[39m\u001b[38;5;124m'\u001b[39m)\n\u001b[0;32m     57\u001b[0m plt\u001b[38;5;241m.\u001b[39mylabel(\u001b[38;5;124m'\u001b[39m\u001b[38;5;124mVoltage [V]\u001b[39m\u001b[38;5;124m'\u001b[39m)\n\u001b[1;32m---> 58\u001b[0m \u001b[43mplt\u001b[49m\u001b[38;5;241;43m.\u001b[39;49m\u001b[43msavefig\u001b[49m\u001b[43m(\u001b[49m\u001b[38;5;124;43m'\u001b[39;49m\u001b[38;5;124;43mpng/simple_kalman_filter.png\u001b[39;49m\u001b[38;5;124;43m'\u001b[39;49m\u001b[43m)\u001b[49m\n",
      "File \u001b[1;32m~\\Anaconda3\\envs\\py38_64\\lib\\site-packages\\matplotlib\\pyplot.py:979\u001b[0m, in \u001b[0;36msavefig\u001b[1;34m(*args, **kwargs)\u001b[0m\n\u001b[0;32m    976\u001b[0m \u001b[38;5;129m@_copy_docstring_and_deprecators\u001b[39m(Figure\u001b[38;5;241m.\u001b[39msavefig)\n\u001b[0;32m    977\u001b[0m \u001b[38;5;28;01mdef\u001b[39;00m \u001b[38;5;21msavefig\u001b[39m(\u001b[38;5;241m*\u001b[39margs, \u001b[38;5;241m*\u001b[39m\u001b[38;5;241m*\u001b[39mkwargs):\n\u001b[0;32m    978\u001b[0m     fig \u001b[38;5;241m=\u001b[39m gcf()\n\u001b[1;32m--> 979\u001b[0m     res \u001b[38;5;241m=\u001b[39m \u001b[43mfig\u001b[49m\u001b[38;5;241;43m.\u001b[39;49m\u001b[43msavefig\u001b[49m\u001b[43m(\u001b[49m\u001b[38;5;241;43m*\u001b[39;49m\u001b[43margs\u001b[49m\u001b[43m,\u001b[49m\u001b[43m \u001b[49m\u001b[38;5;241;43m*\u001b[39;49m\u001b[38;5;241;43m*\u001b[39;49m\u001b[43mkwargs\u001b[49m\u001b[43m)\u001b[49m\n\u001b[0;32m    980\u001b[0m     fig\u001b[38;5;241m.\u001b[39mcanvas\u001b[38;5;241m.\u001b[39mdraw_idle()   \u001b[38;5;66;03m# need this if 'transparent=True' to reset colors\u001b[39;00m\n\u001b[0;32m    981\u001b[0m     \u001b[38;5;28;01mreturn\u001b[39;00m res\n",
      "File \u001b[1;32m~\\Anaconda3\\envs\\py38_64\\lib\\site-packages\\matplotlib\\figure.py:3046\u001b[0m, in \u001b[0;36mFigure.savefig\u001b[1;34m(self, fname, transparent, **kwargs)\u001b[0m\n\u001b[0;32m   3042\u001b[0m     \u001b[38;5;28;01mfor\u001b[39;00m ax \u001b[38;5;129;01min\u001b[39;00m \u001b[38;5;28mself\u001b[39m\u001b[38;5;241m.\u001b[39maxes:\n\u001b[0;32m   3043\u001b[0m         stack\u001b[38;5;241m.\u001b[39menter_context(\n\u001b[0;32m   3044\u001b[0m             ax\u001b[38;5;241m.\u001b[39mpatch\u001b[38;5;241m.\u001b[39m_cm_set(facecolor\u001b[38;5;241m=\u001b[39m\u001b[38;5;124m'\u001b[39m\u001b[38;5;124mnone\u001b[39m\u001b[38;5;124m'\u001b[39m, edgecolor\u001b[38;5;241m=\u001b[39m\u001b[38;5;124m'\u001b[39m\u001b[38;5;124mnone\u001b[39m\u001b[38;5;124m'\u001b[39m))\n\u001b[1;32m-> 3046\u001b[0m \u001b[38;5;28;43mself\u001b[39;49m\u001b[38;5;241;43m.\u001b[39;49m\u001b[43mcanvas\u001b[49m\u001b[38;5;241;43m.\u001b[39;49m\u001b[43mprint_figure\u001b[49m\u001b[43m(\u001b[49m\u001b[43mfname\u001b[49m\u001b[43m,\u001b[49m\u001b[43m \u001b[49m\u001b[38;5;241;43m*\u001b[39;49m\u001b[38;5;241;43m*\u001b[39;49m\u001b[43mkwargs\u001b[49m\u001b[43m)\u001b[49m\n",
      "File \u001b[1;32m~\\Anaconda3\\envs\\py38_64\\lib\\site-packages\\matplotlib\\backend_bases.py:2319\u001b[0m, in \u001b[0;36mFigureCanvasBase.print_figure\u001b[1;34m(self, filename, dpi, facecolor, edgecolor, orientation, format, bbox_inches, pad_inches, bbox_extra_artists, backend, **kwargs)\u001b[0m\n\u001b[0;32m   2315\u001b[0m \u001b[38;5;28;01mtry\u001b[39;00m:\n\u001b[0;32m   2316\u001b[0m     \u001b[38;5;66;03m# _get_renderer may change the figure dpi (as vector formats\u001b[39;00m\n\u001b[0;32m   2317\u001b[0m     \u001b[38;5;66;03m# force the figure dpi to 72), so we need to set it again here.\u001b[39;00m\n\u001b[0;32m   2318\u001b[0m     \u001b[38;5;28;01mwith\u001b[39;00m cbook\u001b[38;5;241m.\u001b[39m_setattr_cm(\u001b[38;5;28mself\u001b[39m\u001b[38;5;241m.\u001b[39mfigure, dpi\u001b[38;5;241m=\u001b[39mdpi):\n\u001b[1;32m-> 2319\u001b[0m         result \u001b[38;5;241m=\u001b[39m \u001b[43mprint_method\u001b[49m\u001b[43m(\u001b[49m\n\u001b[0;32m   2320\u001b[0m \u001b[43m            \u001b[49m\u001b[43mfilename\u001b[49m\u001b[43m,\u001b[49m\n\u001b[0;32m   2321\u001b[0m \u001b[43m            \u001b[49m\u001b[43mfacecolor\u001b[49m\u001b[38;5;241;43m=\u001b[39;49m\u001b[43mfacecolor\u001b[49m\u001b[43m,\u001b[49m\n\u001b[0;32m   2322\u001b[0m \u001b[43m            \u001b[49m\u001b[43medgecolor\u001b[49m\u001b[38;5;241;43m=\u001b[39;49m\u001b[43medgecolor\u001b[49m\u001b[43m,\u001b[49m\n\u001b[0;32m   2323\u001b[0m \u001b[43m            \u001b[49m\u001b[43morientation\u001b[49m\u001b[38;5;241;43m=\u001b[39;49m\u001b[43morientation\u001b[49m\u001b[43m,\u001b[49m\n\u001b[0;32m   2324\u001b[0m \u001b[43m            \u001b[49m\u001b[43mbbox_inches_restore\u001b[49m\u001b[38;5;241;43m=\u001b[39;49m\u001b[43m_bbox_inches_restore\u001b[49m\u001b[43m,\u001b[49m\n\u001b[0;32m   2325\u001b[0m \u001b[43m            \u001b[49m\u001b[38;5;241;43m*\u001b[39;49m\u001b[38;5;241;43m*\u001b[39;49m\u001b[43mkwargs\u001b[49m\u001b[43m)\u001b[49m\n\u001b[0;32m   2326\u001b[0m \u001b[38;5;28;01mfinally\u001b[39;00m:\n\u001b[0;32m   2327\u001b[0m     \u001b[38;5;28;01mif\u001b[39;00m bbox_inches \u001b[38;5;129;01mand\u001b[39;00m restore_bbox:\n",
      "File \u001b[1;32m~\\Anaconda3\\envs\\py38_64\\lib\\site-packages\\matplotlib\\backend_bases.py:1648\u001b[0m, in \u001b[0;36m_check_savefig_extra_args.<locals>.wrapper\u001b[1;34m(*args, **kwargs)\u001b[0m\n\u001b[0;32m   1640\u001b[0m     _api\u001b[38;5;241m.\u001b[39mwarn_deprecated(\n\u001b[0;32m   1641\u001b[0m         \u001b[38;5;124m'\u001b[39m\u001b[38;5;124m3.3\u001b[39m\u001b[38;5;124m'\u001b[39m, name\u001b[38;5;241m=\u001b[39mname, removal\u001b[38;5;241m=\u001b[39m\u001b[38;5;124m'\u001b[39m\u001b[38;5;124m3.6\u001b[39m\u001b[38;5;124m'\u001b[39m,\n\u001b[0;32m   1642\u001b[0m         message\u001b[38;5;241m=\u001b[39m\u001b[38;5;124m'\u001b[39m\u001b[38;5;132;01m%(name)s\u001b[39;00m\u001b[38;5;124m() got unexpected keyword argument \u001b[39m\u001b[38;5;124m\"\u001b[39m\u001b[38;5;124m'\u001b[39m\n\u001b[0;32m   1643\u001b[0m                 \u001b[38;5;241m+\u001b[39m arg \u001b[38;5;241m+\u001b[39m \u001b[38;5;124m'\u001b[39m\u001b[38;5;124m\"\u001b[39m\u001b[38;5;124m which is no longer supported as of \u001b[39m\u001b[38;5;124m'\u001b[39m\n\u001b[0;32m   1644\u001b[0m                 \u001b[38;5;124m'\u001b[39m\u001b[38;5;132;01m%(since)s\u001b[39;00m\u001b[38;5;124m and will become an error \u001b[39m\u001b[38;5;124m'\u001b[39m\n\u001b[0;32m   1645\u001b[0m                 \u001b[38;5;124m'\u001b[39m\u001b[38;5;132;01m%(removal)s\u001b[39;00m\u001b[38;5;124m'\u001b[39m)\n\u001b[0;32m   1646\u001b[0m     kwargs\u001b[38;5;241m.\u001b[39mpop(arg)\n\u001b[1;32m-> 1648\u001b[0m \u001b[38;5;28;01mreturn\u001b[39;00m \u001b[43mfunc\u001b[49m\u001b[43m(\u001b[49m\u001b[38;5;241;43m*\u001b[39;49m\u001b[43margs\u001b[49m\u001b[43m,\u001b[49m\u001b[43m \u001b[49m\u001b[38;5;241;43m*\u001b[39;49m\u001b[38;5;241;43m*\u001b[39;49m\u001b[43mkwargs\u001b[49m\u001b[43m)\u001b[49m\n",
      "File \u001b[1;32m~\\Anaconda3\\envs\\py38_64\\lib\\site-packages\\matplotlib\\_api\\deprecation.py:415\u001b[0m, in \u001b[0;36mdelete_parameter.<locals>.wrapper\u001b[1;34m(*inner_args, **inner_kwargs)\u001b[0m\n\u001b[0;32m    405\u001b[0m     deprecation_addendum \u001b[38;5;241m=\u001b[39m (\n\u001b[0;32m    406\u001b[0m         \u001b[38;5;124mf\u001b[39m\u001b[38;5;124m\"\u001b[39m\u001b[38;5;124mIf any parameter follows \u001b[39m\u001b[38;5;132;01m{\u001b[39;00mname\u001b[38;5;132;01m!r}\u001b[39;00m\u001b[38;5;124m, they should be passed as \u001b[39m\u001b[38;5;124m\"\u001b[39m\n\u001b[0;32m    407\u001b[0m         \u001b[38;5;124mf\u001b[39m\u001b[38;5;124m\"\u001b[39m\u001b[38;5;124mkeyword, not positionally.\u001b[39m\u001b[38;5;124m\"\u001b[39m)\n\u001b[0;32m    408\u001b[0m     warn_deprecated(\n\u001b[0;32m    409\u001b[0m         since,\n\u001b[0;32m    410\u001b[0m         name\u001b[38;5;241m=\u001b[39m\u001b[38;5;28mrepr\u001b[39m(name),\n\u001b[1;32m   (...)\u001b[0m\n\u001b[0;32m    413\u001b[0m                  \u001b[38;5;28;01melse\u001b[39;00m deprecation_addendum,\n\u001b[0;32m    414\u001b[0m         \u001b[38;5;241m*\u001b[39m\u001b[38;5;241m*\u001b[39mkwargs)\n\u001b[1;32m--> 415\u001b[0m \u001b[38;5;28;01mreturn\u001b[39;00m \u001b[43mfunc\u001b[49m\u001b[43m(\u001b[49m\u001b[38;5;241;43m*\u001b[39;49m\u001b[43minner_args\u001b[49m\u001b[43m,\u001b[49m\u001b[43m \u001b[49m\u001b[38;5;241;43m*\u001b[39;49m\u001b[38;5;241;43m*\u001b[39;49m\u001b[43minner_kwargs\u001b[49m\u001b[43m)\u001b[49m\n",
      "File \u001b[1;32m~\\Anaconda3\\envs\\py38_64\\lib\\site-packages\\matplotlib\\backends\\backend_agg.py:541\u001b[0m, in \u001b[0;36mFigureCanvasAgg.print_png\u001b[1;34m(self, filename_or_obj, metadata, pil_kwargs, *args)\u001b[0m\n\u001b[0;32m    494\u001b[0m \u001b[38;5;124;03m\"\"\"\u001b[39;00m\n\u001b[0;32m    495\u001b[0m \u001b[38;5;124;03mWrite the figure to a PNG file.\u001b[39;00m\n\u001b[0;32m    496\u001b[0m \n\u001b[1;32m   (...)\u001b[0m\n\u001b[0;32m    538\u001b[0m \u001b[38;5;124;03m    *metadata*, including the default 'Software' key.\u001b[39;00m\n\u001b[0;32m    539\u001b[0m \u001b[38;5;124;03m\"\"\"\u001b[39;00m\n\u001b[0;32m    540\u001b[0m FigureCanvasAgg\u001b[38;5;241m.\u001b[39mdraw(\u001b[38;5;28mself\u001b[39m)\n\u001b[1;32m--> 541\u001b[0m \u001b[43mmpl\u001b[49m\u001b[38;5;241;43m.\u001b[39;49m\u001b[43mimage\u001b[49m\u001b[38;5;241;43m.\u001b[39;49m\u001b[43mimsave\u001b[49m\u001b[43m(\u001b[49m\n\u001b[0;32m    542\u001b[0m \u001b[43m    \u001b[49m\u001b[43mfilename_or_obj\u001b[49m\u001b[43m,\u001b[49m\u001b[43m \u001b[49m\u001b[38;5;28;43mself\u001b[39;49m\u001b[38;5;241;43m.\u001b[39;49m\u001b[43mbuffer_rgba\u001b[49m\u001b[43m(\u001b[49m\u001b[43m)\u001b[49m\u001b[43m,\u001b[49m\u001b[43m \u001b[49m\u001b[38;5;28;43mformat\u001b[39;49m\u001b[38;5;241;43m=\u001b[39;49m\u001b[38;5;124;43m\"\u001b[39;49m\u001b[38;5;124;43mpng\u001b[39;49m\u001b[38;5;124;43m\"\u001b[39;49m\u001b[43m,\u001b[49m\u001b[43m \u001b[49m\u001b[43morigin\u001b[49m\u001b[38;5;241;43m=\u001b[39;49m\u001b[38;5;124;43m\"\u001b[39;49m\u001b[38;5;124;43mupper\u001b[39;49m\u001b[38;5;124;43m\"\u001b[39;49m\u001b[43m,\u001b[49m\n\u001b[0;32m    543\u001b[0m \u001b[43m    \u001b[49m\u001b[43mdpi\u001b[49m\u001b[38;5;241;43m=\u001b[39;49m\u001b[38;5;28;43mself\u001b[39;49m\u001b[38;5;241;43m.\u001b[39;49m\u001b[43mfigure\u001b[49m\u001b[38;5;241;43m.\u001b[39;49m\u001b[43mdpi\u001b[49m\u001b[43m,\u001b[49m\u001b[43m \u001b[49m\u001b[43mmetadata\u001b[49m\u001b[38;5;241;43m=\u001b[39;49m\u001b[43mmetadata\u001b[49m\u001b[43m,\u001b[49m\u001b[43m \u001b[49m\u001b[43mpil_kwargs\u001b[49m\u001b[38;5;241;43m=\u001b[39;49m\u001b[43mpil_kwargs\u001b[49m\u001b[43m)\u001b[49m\n",
      "File \u001b[1;32m~\\Anaconda3\\envs\\py38_64\\lib\\site-packages\\matplotlib\\image.py:1675\u001b[0m, in \u001b[0;36mimsave\u001b[1;34m(fname, arr, vmin, vmax, cmap, format, origin, dpi, metadata, pil_kwargs)\u001b[0m\n\u001b[0;32m   1673\u001b[0m pil_kwargs\u001b[38;5;241m.\u001b[39msetdefault(\u001b[38;5;124m\"\u001b[39m\u001b[38;5;124mformat\u001b[39m\u001b[38;5;124m\"\u001b[39m, \u001b[38;5;28mformat\u001b[39m)\n\u001b[0;32m   1674\u001b[0m pil_kwargs\u001b[38;5;241m.\u001b[39msetdefault(\u001b[38;5;124m\"\u001b[39m\u001b[38;5;124mdpi\u001b[39m\u001b[38;5;124m\"\u001b[39m, (dpi, dpi))\n\u001b[1;32m-> 1675\u001b[0m \u001b[43mimage\u001b[49m\u001b[38;5;241;43m.\u001b[39;49m\u001b[43msave\u001b[49m\u001b[43m(\u001b[49m\u001b[43mfname\u001b[49m\u001b[43m,\u001b[49m\u001b[43m \u001b[49m\u001b[38;5;241;43m*\u001b[39;49m\u001b[38;5;241;43m*\u001b[39;49m\u001b[43mpil_kwargs\u001b[49m\u001b[43m)\u001b[49m\n",
      "File \u001b[1;32m~\\Anaconda3\\envs\\py38_64\\lib\\site-packages\\PIL\\Image.py:2297\u001b[0m, in \u001b[0;36mImage.save\u001b[1;34m(self, fp, format, **params)\u001b[0m\n\u001b[0;32m   2295\u001b[0m         fp \u001b[38;5;241m=\u001b[39m builtins\u001b[38;5;241m.\u001b[39mopen(filename, \u001b[38;5;124m\"\u001b[39m\u001b[38;5;124mr+b\u001b[39m\u001b[38;5;124m\"\u001b[39m)\n\u001b[0;32m   2296\u001b[0m     \u001b[38;5;28;01melse\u001b[39;00m:\n\u001b[1;32m-> 2297\u001b[0m         fp \u001b[38;5;241m=\u001b[39m \u001b[43mbuiltins\u001b[49m\u001b[38;5;241;43m.\u001b[39;49m\u001b[43mopen\u001b[49m\u001b[43m(\u001b[49m\u001b[43mfilename\u001b[49m\u001b[43m,\u001b[49m\u001b[43m \u001b[49m\u001b[38;5;124;43m\"\u001b[39;49m\u001b[38;5;124;43mw+b\u001b[39;49m\u001b[38;5;124;43m\"\u001b[39;49m\u001b[43m)\u001b[49m\n\u001b[0;32m   2299\u001b[0m \u001b[38;5;28;01mtry\u001b[39;00m:\n\u001b[0;32m   2300\u001b[0m     save_handler(\u001b[38;5;28mself\u001b[39m, fp, filename)\n",
      "\u001b[1;31mFileNotFoundError\u001b[0m: [Errno 2] No such file or directory: 'png/simple_kalman_filter.png'"
     ]
    },
    {
     "data": {
      "image/png": "[encoded data removed]",
      "text/plain": [
       "<Figure size 432x288 with 1 Axes>"
      ]
     },
     "metadata": {
      "needs_background": "light"
     },
     "output_type": "display_data"
    }
   ],
   "source": [
    "import numpy as np\n",
    "import matplotlib.pyplot as plt\n",
    "\n",
    "np.random.seed(0)\n",
    "def get_volt():\n",
    "    \"\"\"Measure voltage.\"\"\"\n",
    "    v = np.random.normal(0, 2)   # v: measurement noise.\n",
    "    volt_true = 14.4             # volt_true: True voltage [V].\n",
    "    z_volt_meas = volt_true + v  # z_volt_meas: Measured Voltage [V] (observable).\n",
    "    return z_volt_meas\n",
    "def kalman_filter(z_meas, x_esti, P):\n",
    "    \"\"\"Kalman Filter Algorithm for One Variable.\"\"\"\n",
    "    # (1) Prediction.\n",
    "    x_pred = A * x_esti\n",
    "    P_pred = A * P * A + Q\n",
    "\n",
    "    # (2) Kalman Gain.\n",
    "    K = P_pred * H / (H * P_pred * H + R)\n",
    "\n",
    "    # (3) Estimation.\n",
    "    x_esti = x_pred + K * (z_meas - H * x_pred)\n",
    "\n",
    "    # (4) Error Covariance.\n",
    "    P = P_pred - K * H * P_pred\n",
    "\n",
    "    return x_esti, P\n",
    "# Input parameters.\n",
    "time_end = 10\n",
    "dt = 0.2\n",
    "# Initialization for system model.\n",
    "A = 1\n",
    "H = 1\n",
    "Q = 0\n",
    "R = 4\n",
    "# Initialization for estimation.\n",
    "x_0 = 12  # 14 for book.\n",
    "P_0 = 6\n",
    "time = np.arange(0, time_end, dt)\n",
    "n_samples = len(time)\n",
    "volt_meas_save = np.zeros(n_samples)\n",
    "volt_esti_save = np.zeros(n_samples)\n",
    "x_esti, P = None, None\n",
    "for i in range(n_samples):\n",
    "    z_meas = get_volt()\n",
    "    if i == 0:\n",
    "        x_esti, P = x_0, P_0\n",
    "    else:\n",
    "        x_esti, P = kalman_filter(z_meas, x_esti, P)\n",
    "\n",
    "    volt_meas_save[i] = z_meas\n",
    "    volt_esti_save[i] = x_esti\n",
    "plt.plot(time, volt_meas_save, 'r*--', label='Measurements')\n",
    "plt.plot(time, volt_esti_save, 'bo-', label='Kalman Filter')\n",
    "plt.legend(loc='upper left')\n",
    "plt.title('Measurements v.s. Estimation (Kalman Filter)')\n",
    "plt.xlabel('Time [sec]')\n",
    "plt.ylabel('Voltage [V]')\n",
    "plt.savefig('png/simple_kalman_filter.png')"
   ]
  },
  {
   "cell_type": "code",
   "execution_count": null,
   "id": "96201b4d",
   "metadata": {},
   "outputs": [],
   "source": []
  }
 ],
 "metadata": {
  "kernelspec": {
   "display_name": "py38_64",
   "language": "python",
   "name": "py38_64"
  },
  "language_info": {
   "codemirror_mode": {
    "name": "ipython",
    "version": 3
   },
   "file_extension": ".py",
   "mimetype": "text/x-python",
   "name": "python",
   "nbconvert_exporter": "python",
   "pygments_lexer": "ipython3",
   "version": "3.8.13"
  }
 },
 "nbformat": 4,
 "nbformat_minor": 5
}
