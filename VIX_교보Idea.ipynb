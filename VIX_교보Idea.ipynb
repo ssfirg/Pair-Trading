{
 "cells": [
  {
   "cell_type": "code",
   "execution_count": 1,
   "id": "12b57c8d",
   "metadata": {},
   "outputs": [],
   "source": [
    "import pandas as pd\n",
    "import numpy as np\n",
    "import yfinance as yf\n",
    "import matplotlib.pyplot as plt"
   ]
  },
  {
   "cell_type": "markdown",
   "id": "f3d5a0d5",
   "metadata": {},
   "source": [
    "## 1.내재변동성\n",
    "## 2. 변동성 Trend\n",
    "## 3. 주식변동성 Trend\n",
    "## 4. 변동성의 성향이 어떤가?"
   ]
  },
  {
   "cell_type": "code",
   "execution_count": 27,
   "id": "716fd729",
   "metadata": {},
   "outputs": [
    {
     "name": "stdout",
     "output_type": "stream",
     "text": [
      "[*********************100%***********************]  1 of 1 completed\n"
     ]
    }
   ],
   "source": [
    "df2 = yf.download(\"VXX\")['Adj Close'].to_frame()"
   ]
  },
  {
   "cell_type": "code",
   "execution_count": 22,
   "id": "2d0772f3",
   "metadata": {},
   "outputs": [
    {
     "name": "stdout",
     "output_type": "stream",
     "text": [
      "[*********************100%***********************]  1 of 1 completed\n"
     ]
    }
   ],
   "source": [
    "df = yf.download(\"^VIX\")['Adj Close'].to_frame()"
   ]
  },
  {
   "cell_type": "code",
   "execution_count": 23,
   "id": "0de6e9ff",
   "metadata": {},
   "outputs": [
    {
     "name": "stdout",
     "output_type": "stream",
     "text": [
      "[*********************100%***********************]  1 of 1 completed\n"
     ]
    }
   ],
   "source": [
    "df2 = yf.download(\"^GSPC\")['Adj Close'].to_frame()\n",
    "df2 = df2.loc[df.index[0]:]"
   ]
  },
  {
   "cell_type": "code",
   "execution_count": 24,
   "id": "464cbcd4",
   "metadata": {},
   "outputs": [],
   "source": [
    "df = df[df.index.isin(df2.index)]"
   ]
  },
  {
   "cell_type": "code",
   "execution_count": 26,
   "id": "d9324d55",
   "metadata": {},
   "outputs": [
    {
     "data": {
      "text/plain": [
       "True"
      ]
     },
     "execution_count": 26,
     "metadata": {},
     "output_type": "execute_result"
    }
   ],
   "source": [
    "len(df)==len(df2)"
   ]
  },
  {
   "cell_type": "code",
   "execution_count": 79,
   "id": "8a61c7c1",
   "metadata": {},
   "outputs": [
    {
     "name": "stderr",
     "output_type": "stream",
     "text": [
      "C:\\Users\\seongsh\\AppData\\Local\\Temp\\ipykernel_8332\\2993041123.py:11: FutureWarning: The default dtype for empty Series will be 'object' instead of 'float64' in a future version. Specify a dtype explicitly to silence this warning.\n",
      "  Position = pd.Series(index = df.index).fillna(0)\n"
     ]
    }
   ],
   "source": [
    "iv = []\n",
    "n = 20\n",
    "vol_20 = df2.pct_change().rolling(5).std()*np.sqrt(252)\n",
    "vol_20_rol = vol_20.rolling(20).mean()\n",
    "\n",
    "avg_5 = df.rolling(5).mean()\n",
    "avg_20 = df.rolling(20).mean()\n",
    "DITV = pd.Series(np.where(avg_5['Adj Close'] >= avg_20['Adj Close'],1,-1), index = df.index)\n",
    "IVT = DITV.rolling(10).sum()\n",
    "\n",
    "Position = pd.Series(index = df.index).fillna(0)\n",
    "\n",
    "for bar in range(n+1,len(df)):\n",
    "    RV = vol_20.iloc[bar,0]\n",
    "    if RV>0.45:\n",
    "        if IVT.iloc[bar] != 10:\n",
    "            Position.iloc[bar] = 0.25\n",
    "            continue\n",
    "        else:\n",
    "            Position.iloc[bar] = 0.4\n",
    "            continue\n",
    "    elif RV>=0.35:\n",
    "        if IVT.iloc[bar]==-10:\n",
    "            Position.iloc[bar] = 0.4\n",
    "            continue\n",
    "        elif IVT.iloc[bar] != 10:\n",
    "            Position.iloc[bar] = 0.25\n",
    "            continue\n",
    "    elif RV>0.20:\n",
    "        if IVT.iloc[bar]==-10:\n",
    "            Position.iloc[bar] = 0.25\n",
    "            continue"
   ]
  },
  {
   "cell_type": "code",
   "execution_count": 76,
   "id": "2ac0ee28",
   "metadata": {},
   "outputs": [
    {
     "name": "stderr",
     "output_type": "stream",
     "text": [
      "C:\\Users\\seongsh\\AppData\\Local\\Temp\\ipykernel_8332\\3649397108.py:9: FutureWarning: The default dtype for empty Series will be 'object' instead of 'float64' in a future version. Specify a dtype explicitly to silence this warning.\n",
      "  Position = pd.Series(index = df.index).fillna(0)\n"
     ]
    }
   ],
   "source": [
    "iv = []\n",
    "n = 20\n",
    "vol_20 = df2.pct_change().rolling(5).std()*np.sqrt(252)\n",
    "vol_20_rol = vol_20.rolling(20).mean()\n",
    "\n",
    "avg_5 = df.rolling(5).mean()\n",
    "avg_20 = df.rolling(20).mean()\n",
    "DITV = pd.Series(np.where(avg_5['Adj Close'] >= avg_20['Adj Close'],1,-1), index = df.index)\n",
    "IVT = DITV.rolling(10).sum()\n",
    "\n",
    "Position = pd.Series(index = df.index).fillna(0)\n",
    "\n",
    "for bar in range(n+1,len(df)):\n",
    "    RV = vol_20.iloc[bar,0]\n",
    "    rol_RV = vol_20_rol.iloc[bar,0]\n",
    "    if RV>rol_RV*1.5:\n",
    "        if IVT.iloc[bar]==-10:\n",
    "            Position.iloc[bar] = 0.4\n",
    "            continue\n",
    "#         elif IVT.iloc[bar]<=-8:\n",
    "#             Position.iloc[bar] = 0.25\n",
    "#             continue\n",
    "    elif RV>rol_RV:\n",
    "        if IVT.iloc[bar]==-10:\n",
    "            Position.iloc[bar] = 0.4\n",
    "            continue\n",
    "        elif IVT.iloc[bar]<=-8:\n",
    "            Position.iloc[bar] = 0.2\n",
    "            continue"
   ]
  },
  {
   "cell_type": "code",
   "execution_count": 83,
   "id": "b8bc061c",
   "metadata": {},
   "outputs": [
    {
     "data": {
      "text/plain": [
       "Date\n",
       "1990-01-02    0.0\n",
       "1990-01-03    0.0\n",
       "1990-01-04    0.0\n",
       "1990-01-05    0.0\n",
       "1990-01-08    0.0\n",
       "             ... \n",
       "2023-05-10    0.0\n",
       "2023-05-11    0.0\n",
       "2023-05-12    0.0\n",
       "2023-05-15    0.0\n",
       "2023-05-16    0.0\n",
       "Length: 8407, dtype: float64"
      ]
     },
     "execution_count": 83,
     "metadata": {},
     "output_type": "execute_result"
    }
   ],
   "source": [
    "Position"
   ]
  },
  {
   "cell_type": "code",
   "execution_count": 112,
   "id": "fcd01ab0",
   "metadata": {},
   "outputs": [],
   "source": [
    "aa = pd.DataFrame(np.array(df.pct_change())*np.array(Position.shift(1)).reshape(-1,1))"
   ]
  },
  {
   "cell_type": "code",
   "execution_count": 114,
   "id": "2d64b246",
   "metadata": {},
   "outputs": [
    {
     "data": {
      "text/plain": [
       "0   -0.000448\n",
       "dtype: float64"
      ]
     },
     "execution_count": 114,
     "metadata": {},
     "output_type": "execute_result"
    }
   ],
   "source": [
    "aa[aa!=0].dropna().mean()\n",
    "#aa[aa!=0].dropna().std()"
   ]
  },
  {
   "cell_type": "code",
   "execution_count": 176,
   "id": "22496c99",
   "metadata": {},
   "outputs": [
    {
     "data": {
      "text/plain": [
       "DatetimeIndex(['1990-03-22', '1990-10-24', '1990-10-25', '1990-10-26',\n",
       "               '1991-08-27', '1991-12-30', '1992-01-28', '1992-03-04',\n",
       "               '1992-04-02', '1992-11-10',\n",
       "               ...\n",
       "               '2019-12-02', '2020-10-01', '2020-10-02', '2021-02-08',\n",
       "               '2021-02-09', '2021-08-17', '2021-08-18', '2021-09-28',\n",
       "               '2022-08-09', '2022-09-13'],\n",
       "              dtype='datetime64[ns]', name='Date', length=109, freq=None)"
      ]
     },
     "execution_count": 176,
     "metadata": {},
     "output_type": "execute_result"
    }
   ],
   "source": [
    "rol_sum[rol_sum==4].dropna().index"
   ]
  },
  {
   "cell_type": "code",
   "execution_count": 181,
   "id": "3d072e6c",
   "metadata": {},
   "outputs": [
    {
     "data": {
      "text/html": [
       "<div>\n",
       "<style scoped>\n",
       "    .dataframe tbody tr th:only-of-type {\n",
       "        vertical-align: middle;\n",
       "    }\n",
       "\n",
       "    .dataframe tbody tr th {\n",
       "        vertical-align: top;\n",
       "    }\n",
       "\n",
       "    .dataframe thead th {\n",
       "        text-align: right;\n",
       "    }\n",
       "</style>\n",
       "<table border=\"1\" class=\"dataframe\">\n",
       "  <thead>\n",
       "    <tr style=\"text-align: right;\">\n",
       "      <th></th>\n",
       "      <th>Adj Close</th>\n",
       "    </tr>\n",
       "    <tr>\n",
       "      <th>Date</th>\n",
       "      <th></th>\n",
       "    </tr>\n",
       "  </thead>\n",
       "  <tbody>\n",
       "    <tr>\n",
       "      <th>1990-03-22</th>\n",
       "      <td>22.740000</td>\n",
       "    </tr>\n",
       "    <tr>\n",
       "      <th>1990-10-24</th>\n",
       "      <td>28.280001</td>\n",
       "    </tr>\n",
       "    <tr>\n",
       "      <th>1990-10-25</th>\n",
       "      <td>29.040001</td>\n",
       "    </tr>\n",
       "    <tr>\n",
       "      <th>1990-10-26</th>\n",
       "      <td>30.750000</td>\n",
       "    </tr>\n",
       "    <tr>\n",
       "      <th>1991-08-27</th>\n",
       "      <td>15.460000</td>\n",
       "    </tr>\n",
       "    <tr>\n",
       "      <th>1991-12-30</th>\n",
       "      <td>17.629999</td>\n",
       "    </tr>\n",
       "    <tr>\n",
       "      <th>1992-01-28</th>\n",
       "      <td>17.670000</td>\n",
       "    </tr>\n",
       "    <tr>\n",
       "      <th>1992-03-04</th>\n",
       "      <td>17.889999</td>\n",
       "    </tr>\n",
       "    <tr>\n",
       "      <th>1992-04-02</th>\n",
       "      <td>17.059999</td>\n",
       "    </tr>\n",
       "    <tr>\n",
       "      <th>1992-11-10</th>\n",
       "      <td>14.370000</td>\n",
       "    </tr>\n",
       "    <tr>\n",
       "      <th>1993-03-29</th>\n",
       "      <td>12.630000</td>\n",
       "    </tr>\n",
       "    <tr>\n",
       "      <th>1993-04-26</th>\n",
       "      <td>15.250000</td>\n",
       "    </tr>\n",
       "    <tr>\n",
       "      <th>1993-06-15</th>\n",
       "      <td>11.990000</td>\n",
       "    </tr>\n",
       "    <tr>\n",
       "      <th>1993-06-16</th>\n",
       "      <td>11.870000</td>\n",
       "    </tr>\n",
       "    <tr>\n",
       "      <th>1994-07-19</th>\n",
       "      <td>11.650000</td>\n",
       "    </tr>\n",
       "    <tr>\n",
       "      <th>1995-01-30</th>\n",
       "      <td>12.260000</td>\n",
       "    </tr>\n",
       "    <tr>\n",
       "      <th>1995-07-26</th>\n",
       "      <td>13.180000</td>\n",
       "    </tr>\n",
       "    <tr>\n",
       "      <th>1997-02-18</th>\n",
       "      <td>19.700001</td>\n",
       "    </tr>\n",
       "    <tr>\n",
       "      <th>1997-02-19</th>\n",
       "      <td>20.610001</td>\n",
       "    </tr>\n",
       "    <tr>\n",
       "      <th>1997-04-10</th>\n",
       "      <td>19.010000</td>\n",
       "    </tr>\n",
       "  </tbody>\n",
       "</table>\n",
       "</div>"
      ],
      "text/plain": [
       "            Adj Close\n",
       "Date                 \n",
       "1990-03-22  22.740000\n",
       "1990-10-24  28.280001\n",
       "1990-10-25  29.040001\n",
       "1990-10-26  30.750000\n",
       "1991-08-27  15.460000\n",
       "1991-12-30  17.629999\n",
       "1992-01-28  17.670000\n",
       "1992-03-04  17.889999\n",
       "1992-04-02  17.059999\n",
       "1992-11-10  14.370000\n",
       "1993-03-29  12.630000\n",
       "1993-04-26  15.250000\n",
       "1993-06-15  11.990000\n",
       "1993-06-16  11.870000\n",
       "1994-07-19  11.650000\n",
       "1995-01-30  12.260000\n",
       "1995-07-26  13.180000\n",
       "1997-02-18  19.700001\n",
       "1997-02-19  20.610001\n",
       "1997-04-10  19.010000"
      ]
     },
     "execution_count": 181,
     "metadata": {},
     "output_type": "execute_result"
    }
   ],
   "source": [
    "df.loc[rol_sum[rol_sum==4].dropna().index].head(20)"
   ]
  },
  {
   "cell_type": "code",
   "execution_count": 182,
   "id": "4da5c000",
   "metadata": {},
   "outputs": [
    {
     "data": {
      "text/html": [
       "<div>\n",
       "<style scoped>\n",
       "    .dataframe tbody tr th:only-of-type {\n",
       "        vertical-align: middle;\n",
       "    }\n",
       "\n",
       "    .dataframe tbody tr th {\n",
       "        vertical-align: top;\n",
       "    }\n",
       "\n",
       "    .dataframe thead th {\n",
       "        text-align: right;\n",
       "    }\n",
       "</style>\n",
       "<table border=\"1\" class=\"dataframe\">\n",
       "  <thead>\n",
       "    <tr style=\"text-align: right;\">\n",
       "      <th></th>\n",
       "      <th>Adj Close</th>\n",
       "    </tr>\n",
       "    <tr>\n",
       "      <th>Date</th>\n",
       "      <th></th>\n",
       "    </tr>\n",
       "  </thead>\n",
       "  <tbody>\n",
       "    <tr>\n",
       "      <th>1990-03-21</th>\n",
       "      <td>20.100000</td>\n",
       "    </tr>\n",
       "    <tr>\n",
       "      <th>1990-03-22</th>\n",
       "      <td>22.740000</td>\n",
       "    </tr>\n",
       "    <tr>\n",
       "      <th>1990-04-27</th>\n",
       "      <td>22.190001</td>\n",
       "    </tr>\n",
       "    <tr>\n",
       "      <th>1990-05-08</th>\n",
       "      <td>18.490000</td>\n",
       "    </tr>\n",
       "    <tr>\n",
       "      <th>1990-06-28</th>\n",
       "      <td>16.180000</td>\n",
       "    </tr>\n",
       "    <tr>\n",
       "      <th>...</th>\n",
       "      <td>...</td>\n",
       "    </tr>\n",
       "    <tr>\n",
       "      <th>2022-09-12</th>\n",
       "      <td>23.870001</td>\n",
       "    </tr>\n",
       "    <tr>\n",
       "      <th>2022-09-13</th>\n",
       "      <td>27.270000</td>\n",
       "    </tr>\n",
       "    <tr>\n",
       "      <th>2022-10-06</th>\n",
       "      <td>30.520000</td>\n",
       "    </tr>\n",
       "    <tr>\n",
       "      <th>2022-11-28</th>\n",
       "      <td>22.209999</td>\n",
       "    </tr>\n",
       "    <tr>\n",
       "      <th>2023-05-02</th>\n",
       "      <td>17.780001</td>\n",
       "    </tr>\n",
       "  </tbody>\n",
       "</table>\n",
       "<p>449 rows × 1 columns</p>\n",
       "</div>"
      ],
      "text/plain": [
       "            Adj Close\n",
       "Date                 \n",
       "1990-03-21  20.100000\n",
       "1990-03-22  22.740000\n",
       "1990-04-27  22.190001\n",
       "1990-05-08  18.490000\n",
       "1990-06-28  16.180000\n",
       "...               ...\n",
       "2022-09-12  23.870001\n",
       "2022-09-13  27.270000\n",
       "2022-10-06  30.520000\n",
       "2022-11-28  22.209999\n",
       "2023-05-02  17.780001\n",
       "\n",
       "[449 rows x 1 columns]"
      ]
     },
     "execution_count": 182,
     "metadata": {},
     "output_type": "execute_result"
    }
   ],
   "source": [
    "rol_sum = pd.DataFrame(np.where(df.diff().diff()>0,1,-1),index=df.index).rolling(3).sum()\n",
    "\n",
    "df.loc[rol_sum[rol_sum==3].dropna().index]"
   ]
  },
  {
   "cell_type": "code",
   "execution_count": 191,
   "id": "1ece0d4d",
   "metadata": {},
   "outputs": [
    {
     "data": {
      "text/plain": [
       "DatetimeIndex(['1990-03-22', '1990-03-23', '1990-04-30', '1990-05-09',\n",
       "               '1990-06-29', '1990-07-30', '1990-09-17', '1990-10-18',\n",
       "               '1990-10-24', '1990-10-25',\n",
       "               ...\n",
       "               '2022-05-19', '2022-07-27', '2022-08-09', '2022-08-10',\n",
       "               '2022-09-07', '2022-09-13', '2022-09-14', '2022-10-07',\n",
       "               '2022-11-29', '2023-05-03'],\n",
       "              dtype='datetime64[ns]', name='Date', length=449, freq=None)"
      ]
     },
     "execution_count": 191,
     "metadata": {},
     "output_type": "execute_result"
    }
   ],
   "source": [
    "rol_sum[rol_sum==3].dropna().index.shift(freq=pd.offsets.BDay())"
   ]
  },
  {
   "cell_type": "code",
   "execution_count": 193,
   "id": "21fae5cf",
   "metadata": {},
   "outputs": [],
   "source": [
    "next_dates = rol_sum[rol_sum == 3].dropna().index.shift(freq=pd.DateOffset(days=1))"
   ]
  },
  {
   "cell_type": "markdown",
   "id": "87bcca68",
   "metadata": {},
   "source": [
    "## 이게 가능해?"
   ]
  },
  {
   "cell_type": "code",
   "execution_count": 201,
   "id": "366876b2",
   "metadata": {},
   "outputs": [
    {
     "data": {
      "text/plain": [
       "1.0"
      ]
     },
     "execution_count": 201,
     "metadata": {},
     "output_type": "execute_result"
    }
   ],
   "source": [
    "rol_sum.iloc[bar,0]"
   ]
  },
  {
   "cell_type": "code",
   "execution_count": 280,
   "id": "905f4075",
   "metadata": {},
   "outputs": [
    {
     "data": {
      "text/html": [
       "<div>\n",
       "<style scoped>\n",
       "    .dataframe tbody tr th:only-of-type {\n",
       "        vertical-align: middle;\n",
       "    }\n",
       "\n",
       "    .dataframe tbody tr th {\n",
       "        vertical-align: top;\n",
       "    }\n",
       "\n",
       "    .dataframe thead th {\n",
       "        text-align: right;\n",
       "    }\n",
       "</style>\n",
       "<table border=\"1\" class=\"dataframe\">\n",
       "  <thead>\n",
       "    <tr style=\"text-align: right;\">\n",
       "      <th></th>\n",
       "      <th>Adj Close</th>\n",
       "    </tr>\n",
       "    <tr>\n",
       "      <th>Date</th>\n",
       "      <th></th>\n",
       "    </tr>\n",
       "  </thead>\n",
       "  <tbody>\n",
       "    <tr>\n",
       "      <th>1990-01-02</th>\n",
       "      <td>359.690002</td>\n",
       "    </tr>\n",
       "    <tr>\n",
       "      <th>1990-01-03</th>\n",
       "      <td>358.760010</td>\n",
       "    </tr>\n",
       "    <tr>\n",
       "      <th>1990-01-04</th>\n",
       "      <td>355.670013</td>\n",
       "    </tr>\n",
       "    <tr>\n",
       "      <th>1990-01-05</th>\n",
       "      <td>352.200012</td>\n",
       "    </tr>\n",
       "    <tr>\n",
       "      <th>1990-01-08</th>\n",
       "      <td>353.790009</td>\n",
       "    </tr>\n",
       "    <tr>\n",
       "      <th>...</th>\n",
       "      <td>...</td>\n",
       "    </tr>\n",
       "    <tr>\n",
       "      <th>2023-05-10</th>\n",
       "      <td>4137.640137</td>\n",
       "    </tr>\n",
       "    <tr>\n",
       "      <th>2023-05-11</th>\n",
       "      <td>4130.620117</td>\n",
       "    </tr>\n",
       "    <tr>\n",
       "      <th>2023-05-12</th>\n",
       "      <td>4124.080078</td>\n",
       "    </tr>\n",
       "    <tr>\n",
       "      <th>2023-05-15</th>\n",
       "      <td>4136.279785</td>\n",
       "    </tr>\n",
       "    <tr>\n",
       "      <th>2023-05-16</th>\n",
       "      <td>4109.899902</td>\n",
       "    </tr>\n",
       "  </tbody>\n",
       "</table>\n",
       "<p>8407 rows × 1 columns</p>\n",
       "</div>"
      ],
      "text/plain": [
       "              Adj Close\n",
       "Date                   \n",
       "1990-01-02   359.690002\n",
       "1990-01-03   358.760010\n",
       "1990-01-04   355.670013\n",
       "1990-01-05   352.200012\n",
       "1990-01-08   353.790009\n",
       "...                 ...\n",
       "2023-05-10  4137.640137\n",
       "2023-05-11  4130.620117\n",
       "2023-05-12  4124.080078\n",
       "2023-05-15  4136.279785\n",
       "2023-05-16  4109.899902\n",
       "\n",
       "[8407 rows x 1 columns]"
      ]
     },
     "execution_count": 280,
     "metadata": {},
     "output_type": "execute_result"
    }
   ],
   "source": [
    "df2"
   ]
  },
  {
   "cell_type": "code",
   "execution_count": 308,
   "id": "eb3391c6",
   "metadata": {},
   "outputs": [],
   "source": [
    "n = 10\n",
    "rol_sum = pd.DataFrame(np.where(df.diff().diff()<0,1,-1),index=df.index).rolling(n).sum()\n"
   ]
  },
  {
   "cell_type": "code",
   "execution_count": null,
   "id": "7e83de1b",
   "metadata": {},
   "outputs": [],
   "source": []
  },
  {
   "cell_type": "code",
   "execution_count": 321,
   "id": "cbb86aa4",
   "metadata": {},
   "outputs": [
    {
     "data": {
      "text/html": [
       "<div>\n",
       "<style scoped>\n",
       "    .dataframe tbody tr th:only-of-type {\n",
       "        vertical-align: middle;\n",
       "    }\n",
       "\n",
       "    .dataframe tbody tr th {\n",
       "        vertical-align: top;\n",
       "    }\n",
       "\n",
       "    .dataframe thead th {\n",
       "        text-align: right;\n",
       "    }\n",
       "</style>\n",
       "<table border=\"1\" class=\"dataframe\">\n",
       "  <thead>\n",
       "    <tr style=\"text-align: right;\">\n",
       "      <th></th>\n",
       "      <th>Adj Close</th>\n",
       "    </tr>\n",
       "    <tr>\n",
       "      <th>Date</th>\n",
       "      <th></th>\n",
       "    </tr>\n",
       "  </thead>\n",
       "  <tbody>\n",
       "    <tr>\n",
       "      <th>1990-01-02</th>\n",
       "      <td>0.153985</td>\n",
       "    </tr>\n",
       "    <tr>\n",
       "      <th>1990-01-03</th>\n",
       "      <td>0.107776</td>\n",
       "    </tr>\n",
       "    <tr>\n",
       "      <th>1990-01-04</th>\n",
       "      <td>0.144141</td>\n",
       "    </tr>\n",
       "    <tr>\n",
       "      <th>1990-01-05</th>\n",
       "      <td>0.109628</td>\n",
       "    </tr>\n",
       "    <tr>\n",
       "      <th>1990-01-08</th>\n",
       "      <td>-0.010419</td>\n",
       "    </tr>\n",
       "    <tr>\n",
       "      <th>...</th>\n",
       "      <td>...</td>\n",
       "    </tr>\n",
       "    <tr>\n",
       "      <th>2023-05-10</th>\n",
       "      <td>0.010570</td>\n",
       "    </tr>\n",
       "    <tr>\n",
       "      <th>2023-05-11</th>\n",
       "      <td>0.060729</td>\n",
       "    </tr>\n",
       "    <tr>\n",
       "      <th>2023-05-12</th>\n",
       "      <td>NaN</td>\n",
       "    </tr>\n",
       "    <tr>\n",
       "      <th>2023-05-15</th>\n",
       "      <td>NaN</td>\n",
       "    </tr>\n",
       "    <tr>\n",
       "      <th>2023-05-16</th>\n",
       "      <td>NaN</td>\n",
       "    </tr>\n",
       "  </tbody>\n",
       "</table>\n",
       "<p>8407 rows × 1 columns</p>\n",
       "</div>"
      ],
      "text/plain": [
       "            Adj Close\n",
       "Date                 \n",
       "1990-01-02   0.153985\n",
       "1990-01-03   0.107776\n",
       "1990-01-04   0.144141\n",
       "1990-01-05   0.109628\n",
       "1990-01-08  -0.010419\n",
       "...               ...\n",
       "2023-05-10   0.010570\n",
       "2023-05-11   0.060729\n",
       "2023-05-12        NaN\n",
       "2023-05-15        NaN\n",
       "2023-05-16        NaN\n",
       "\n",
       "[8407 rows x 1 columns]"
      ]
     },
     "execution_count": 321,
     "metadata": {},
     "output_type": "execute_result"
    }
   ],
   "source": [
    "np.log(df).diff(3).shift(-3)"
   ]
  },
  {
   "cell_type": "code",
   "execution_count": 336,
   "id": "81a0e2bd",
   "metadata": {},
   "outputs": [
    {
     "data": {
      "text/plain": [
       "<Axes: xlabel='Date'>"
      ]
     },
     "execution_count": 336,
     "metadata": {},
     "output_type": "execute_result"
    },
    {
     "data": {
      "image/png": "[encoded data removed]",
      "text/plain": [
       "<Figure size 432x288 with 1 Axes>"
      ]
     },
     "metadata": {
      "needs_background": "light"
     },
     "output_type": "display_data"
    }
   ],
   "source": [
    "np.log(df).diff(3).shift(-3).loc[rol_sum[rol_sum>=6].dropna().index].plot()"
   ]
  },
  {
   "cell_type": "code",
   "execution_count": 352,
   "id": "d8ed7136",
   "metadata": {},
   "outputs": [
    {
     "name": "stderr",
     "output_type": "stream",
     "text": [
      "C:\\Users\\seongsh\\AppData\\Local\\Temp\\ipykernel_8332\\2392991160.py:4: FutureWarning: The default dtype for empty Series will be 'object' instead of 'float64' in a future version. Specify a dtype explicitly to silence this warning.\n",
      "  Position = pd.Series(index = df.index).fillna(0)\n"
     ]
    }
   ],
   "source": [
    "n = 6\n",
    "rol_sum = pd.DataFrame(np.where(df.diff().diff()<0,1,-1),index=df.index).rolling(n).sum()\n",
    "\n",
    "Position = pd.Series(index = df.index).fillna(0)\n",
    "\n",
    "for bar in range(n+1,len(df)):\n",
    "    trend = rol_sum.iloc[bar,0]\n",
    "    if trend >=4:\n",
    "        Position.iloc[bar] = 0.4\n",
    "        continue"
   ]
  },
  {
   "cell_type": "code",
   "execution_count": 303,
   "id": "b87c5673",
   "metadata": {},
   "outputs": [
    {
     "name": "stderr",
     "output_type": "stream",
     "text": [
      "C:\\Users\\seongsh\\AppData\\Local\\Temp\\ipykernel_8332\\1972274900.py:4: FutureWarning: The default dtype for empty Series will be 'object' instead of 'float64' in a future version. Specify a dtype explicitly to silence this warning.\n",
      "  Position = pd.Series(index = df.index).fillna(0)\n"
     ]
    }
   ],
   "source": [
    "n = 5\n",
    "rol_sum = pd.DataFrame(np.where(df.diff().diff()>0,1,-1),index=df.index).rolling(n).sum()\n",
    "\n",
    "Position = pd.Series(index = df.index).fillna(0)\n",
    "\n",
    "for bar in range(n+1,len(df)):\n",
    "    trend = rol_sum.iloc[bar,0]\n",
    "    if trend >=4:\n",
    "        Position.iloc[bar] = 0.4\n",
    "        continue"
   ]
  },
  {
   "cell_type": "code",
   "execution_count": 353,
   "id": "0b8d72ce",
   "metadata": {},
   "outputs": [],
   "source": [
    "Position = Position.shift()"
   ]
  },
  {
   "cell_type": "code",
   "execution_count": 354,
   "id": "cdea25ef",
   "metadata": {},
   "outputs": [
    {
     "data": {
      "text/plain": [
       "<Axes: xlabel='Date'>"
      ]
     },
     "execution_count": 354,
     "metadata": {},
     "output_type": "execute_result"
    },
    {
     "data": {
      "image/png": "[encoded data removed]",
      "text/plain": [
       "<Figure size 1080x432 with 1 Axes>"
      ]
     },
     "metadata": {
      "needs_background": "light"
     },
     "output_type": "display_data"
    }
   ],
   "source": [
    "Position.plot(figsize=(15,6))"
   ]
  },
  {
   "cell_type": "code",
   "execution_count": 356,
   "id": "f572296e",
   "metadata": {},
   "outputs": [
    {
     "data": {
      "text/plain": [
       "[<matplotlib.lines.Line2D at 0x1f2092d7dc0>]"
      ]
     },
     "execution_count": 356,
     "metadata": {},
     "output_type": "execute_result"
    },
    {
     "data": {
      "image/png": "[encoded data removed]",
      "text/plain": [
       "<Figure size 432x288 with 1 Axes>"
      ]
     },
     "metadata": {
      "needs_background": "light"
     },
     "output_type": "display_data"
    }
   ],
   "source": [
    "pd.DataFrame((np.array(np.log(df2).diff())*np.array(1-Position).reshape(-1,1)+np.array(np.log(df).diff())*np.array(Position).reshape(-1,1))).cumsum().plot()\n",
    "plt.plot(np.array(np.log(df2).diff().cumsum()))"
   ]
  },
  {
   "cell_type": "code",
   "execution_count": 266,
   "id": "39ab09df",
   "metadata": {},
   "outputs": [
    {
     "data": {
      "text/plain": [
       "array([[        nan],\n",
       "       [-0.00258554],\n",
       "       [-0.00861299],\n",
       "       ...,\n",
       "       [-0.00158331],\n",
       "       [ 0.00295816],\n",
       "       [-0.00637768]])"
      ]
     },
     "execution_count": 266,
     "metadata": {},
     "output_type": "execute_result"
    }
   ],
   "source": [
    "np.array(df2.pct_change())*np.array(1-Position).reshape(-1,1)"
   ]
  },
  {
   "cell_type": "code",
   "execution_count": 209,
   "id": "74ac2539",
   "metadata": {},
   "outputs": [
    {
     "data": {
      "text/plain": [
       "<Axes: >"
      ]
     },
     "execution_count": 209,
     "metadata": {},
     "output_type": "execute_result"
    },
    {
     "data": {
      "image/png": "[encoded data removed]",
      "text/plain": [
       "<Figure size 432x288 with 1 Axes>"
      ]
     },
     "metadata": {
      "needs_background": "light"
     },
     "output_type": "display_data"
    },
    {
     "data": {
      "image/png": "[encoded data removed]",
      "text/plain": [
       "<Figure size 432x288 with 1 Axes>"
      ]
     },
     "metadata": {
      "needs_background": "light"
     },
     "output_type": "display_data"
    }
   ],
   "source": [
    "pd.DataFrame(np.array(df2.pct_change())+1).cumprod().plot()\n",
    "pd.DataFrame(np.array(df2.pct_change())*np.array(1-Position).reshape(-1,1)+1).cumprod().plot()"
   ]
  },
  {
   "cell_type": "code",
   "execution_count": 210,
   "id": "7b1240f5",
   "metadata": {},
   "outputs": [
    {
     "data": {
      "text/plain": [
       "<Axes: xlabel='Date'>"
      ]
     },
     "execution_count": 210,
     "metadata": {},
     "output_type": "execute_result"
    },
    {
     "data": {
      "image/png": "[encoded data removed]",
      "text/plain": [
       "<Figure size 432x288 with 1 Axes>"
      ]
     },
     "metadata": {
      "needs_background": "light"
     },
     "output_type": "display_data"
    }
   ],
   "source": [
    "np.log(df).diff().shift(1).loc[rol_sum[rol_sum==3].dropna().index].cumsum().plot()"
   ]
  },
  {
   "cell_type": "code",
   "execution_count": 116,
   "id": "f1c8141d",
   "metadata": {},
   "outputs": [
    {
     "data": {
      "text/plain": [
       "<Axes: xlabel='Date'>"
      ]
     },
     "execution_count": 116,
     "metadata": {},
     "output_type": "execute_result"
    },
    {
     "data": {
      "image/png": "[encoded data removed]",
      "text/plain": [
       "<Figure size 1080x432 with 1 Axes>"
      ]
     },
     "metadata": {
      "needs_background": "light"
     },
     "output_type": "display_data"
    }
   ],
   "source": [
    "df.plot(figsize=(15,6))"
   ]
  },
  {
   "cell_type": "code",
   "execution_count": 111,
   "id": "83cd0dff",
   "metadata": {},
   "outputs": [
    {
     "data": {
      "text/plain": [
       "[<matplotlib.lines.Line2D at 0x1f229ff3280>]"
      ]
     },
     "execution_count": 111,
     "metadata": {},
     "output_type": "execute_result"
    },
    {
     "data": {
      "image/png": "[encoded data removed]",
      "text/plain": [
       "<Figure size 1080x432 with 1 Axes>"
      ]
     },
     "metadata": {
      "needs_background": "light"
     },
     "output_type": "display_data"
    }
   ],
   "source": [
    "plt.figure(figsize=(15,6))\n",
    "plt.plot(np.array(df.pct_change())*np.array(Position.shift(1)).reshape(-1,1))"
   ]
  },
  {
   "cell_type": "code",
   "execution_count": 103,
   "id": "08eb9480",
   "metadata": {},
   "outputs": [
    {
     "data": {
      "text/html": [
       "<div>\n",
       "<style scoped>\n",
       "    .dataframe tbody tr th:only-of-type {\n",
       "        vertical-align: middle;\n",
       "    }\n",
       "\n",
       "    .dataframe tbody tr th {\n",
       "        vertical-align: top;\n",
       "    }\n",
       "\n",
       "    .dataframe thead th {\n",
       "        text-align: right;\n",
       "    }\n",
       "</style>\n",
       "<table border=\"1\" class=\"dataframe\">\n",
       "  <thead>\n",
       "    <tr style=\"text-align: right;\">\n",
       "      <th></th>\n",
       "      <th>Adj Close</th>\n",
       "    </tr>\n",
       "    <tr>\n",
       "      <th>Date</th>\n",
       "      <th></th>\n",
       "    </tr>\n",
       "  </thead>\n",
       "  <tbody>\n",
       "    <tr>\n",
       "      <th>1990-01-05</th>\n",
       "      <td>20.110001</td>\n",
       "    </tr>\n",
       "    <tr>\n",
       "      <th>1990-01-08</th>\n",
       "      <td>20.260000</td>\n",
       "    </tr>\n",
       "    <tr>\n",
       "      <th>1990-01-09</th>\n",
       "      <td>22.200001</td>\n",
       "    </tr>\n",
       "    <tr>\n",
       "      <th>1990-01-10</th>\n",
       "      <td>22.440001</td>\n",
       "    </tr>\n",
       "    <tr>\n",
       "      <th>1990-01-12</th>\n",
       "      <td>24.639999</td>\n",
       "    </tr>\n",
       "    <tr>\n",
       "      <th>...</th>\n",
       "      <td>...</td>\n",
       "    </tr>\n",
       "    <tr>\n",
       "      <th>2023-03-10</th>\n",
       "      <td>24.799999</td>\n",
       "    </tr>\n",
       "    <tr>\n",
       "      <th>2023-03-13</th>\n",
       "      <td>26.520000</td>\n",
       "    </tr>\n",
       "    <tr>\n",
       "      <th>2023-04-26</th>\n",
       "      <td>18.840000</td>\n",
       "    </tr>\n",
       "    <tr>\n",
       "      <th>2023-05-03</th>\n",
       "      <td>18.340000</td>\n",
       "    </tr>\n",
       "    <tr>\n",
       "      <th>2023-05-04</th>\n",
       "      <td>20.090000</td>\n",
       "    </tr>\n",
       "  </tbody>\n",
       "</table>\n",
       "<p>1154 rows × 1 columns</p>\n",
       "</div>"
      ],
      "text/plain": [
       "            Adj Close\n",
       "Date                 \n",
       "1990-01-05  20.110001\n",
       "1990-01-08  20.260000\n",
       "1990-01-09  22.200001\n",
       "1990-01-10  22.440001\n",
       "1990-01-12  24.639999\n",
       "...               ...\n",
       "2023-03-10  24.799999\n",
       "2023-03-13  26.520000\n",
       "2023-04-26  18.840000\n",
       "2023-05-03  18.340000\n",
       "2023-05-04  20.090000\n",
       "\n",
       "[1154 rows x 1 columns]"
      ]
     },
     "execution_count": 103,
     "metadata": {},
     "output_type": "execute_result"
    }
   ],
   "source": [
    "df[np.log(df).diff().rolling(3).sum()>0.1].dropna().index"
   ]
  },
  {
   "cell_type": "code",
   "execution_count": 205,
   "id": "1b379cd6",
   "metadata": {},
   "outputs": [
    {
     "data": {
      "text/plain": [
       "<Axes: >"
      ]
     },
     "execution_count": 205,
     "metadata": {},
     "output_type": "execute_result"
    },
    {
     "data": {
      "image/png": "[encoded data removed]",
      "text/plain": [
       "<Figure size 432x288 with 1 Axes>"
      ]
     },
     "metadata": {
      "needs_background": "light"
     },
     "output_type": "display_data"
    },
    {
     "data": {
      "image/png": "[encoded data removed]",
      "text/plain": [
       "<Figure size 432x288 with 1 Axes>"
      ]
     },
     "metadata": {
      "needs_background": "light"
     },
     "output_type": "display_data"
    }
   ],
   "source": [
    "pd.DataFrame(np.array(df2.pct_change())+1).cumprod().plot()\n",
    "pd.DataFrame(np.array(df2.pct_change())*np.array(1-Position).reshape(-1,1)+1).cumprod().plot()"
   ]
  },
  {
   "cell_type": "code",
   "execution_count": 254,
   "id": "25855da2",
   "metadata": {},
   "outputs": [
    {
     "name": "stderr",
     "output_type": "stream",
     "text": [
      "C:\\Users\\seongsh\\AppData\\Local\\Temp\\ipykernel_15812\\3458356370.py:7: FutureWarning: The default dtype for empty Series will be 'object' instead of 'float64' in a future version. Specify a dtype explicitly to silence this warning.\n",
      "  Position = pd.Series(index = df.index).fillna(0)\n"
     ]
    }
   ],
   "source": [
    "iv = []\n",
    "n = 20\n",
    "vol_20 = df2.pct_change().rolling(5).std()*np.sqrt(252)\n",
    "avg_5 = df.rolling(5).mean()\n",
    "DITV = pd.Series(np.where(avg_5['Adj Close'] < df['Adj Close'],1,-1), index = df.index)\n",
    "IVT = DITV.rolling(10).sum()\n",
    "Position = pd.Series(index = df.index).fillna(0)\n",
    "\n",
    "for bar in range(n+1,len(df)):\n",
    "    RV = vol_20.iloc[bar,0]\n",
    "    if (RV>0.20) & (RV<0.35):\n",
    "        if IVT.iloc[bar]==-10:\n",
    "            Position.iloc[bar] = 0.25\n",
    "            continue\n",
    "    elif (RV>=0.35) & (RV<=0.45):\n",
    "        if IVT.iloc[bar]== -10:\n",
    "            Position.iloc[bar] = 0.4\n",
    "            continue\n",
    "        elif IVT.iloc[bar]!= 10:\n",
    "            Position.iloc[bar] = 0.25\n",
    "            continue\n",
    "    elif (RV>0.45):\n",
    "        if IVT.iloc[bar]!= 10:\n",
    "            Position.iloc[bar] = 0.4\n",
    "            continue\n",
    "    \n",
    "        \n",
    "        "
   ]
  },
  {
   "cell_type": "code",
   "execution_count": 18,
   "id": "ce0da52d",
   "metadata": {},
   "outputs": [
    {
     "data": {
      "text/plain": [
       "<Axes: >"
      ]
     },
     "execution_count": 18,
     "metadata": {},
     "output_type": "execute_result"
    },
    {
     "data": {
      "image/png": "[encoded data removed]",
      "text/plain": [
       "<Figure size 432x288 with 1 Axes>"
      ]
     },
     "metadata": {
      "needs_background": "light"
     },
     "output_type": "display_data"
    }
   ],
   "source": [
    "pd.DataFrame(np.array(df2.pct_change())+1).cumprod().plot()"
   ]
  },
  {
   "cell_type": "code",
   "execution_count": 19,
   "id": "50619d1a",
   "metadata": {},
   "outputs": [
    {
     "data": {
      "text/plain": [
       "<Axes: >"
      ]
     },
     "execution_count": 19,
     "metadata": {},
     "output_type": "execute_result"
    },
    {
     "data": {
      "image/png": "[encoded data removed]",
      "text/plain": [
       "<Figure size 432x288 with 1 Axes>"
      ]
     },
     "metadata": {
      "needs_background": "light"
     },
     "output_type": "display_data"
    }
   ],
   "source": [
    "pd.DataFrame(np.array(df2.pct_change())*np.array(1-Position).reshape(-1,1)+1).cumprod().plot()"
   ]
  },
  {
   "cell_type": "code",
   "execution_count": 20,
   "id": "f6c12940",
   "metadata": {},
   "outputs": [
    {
     "data": {
      "text/html": [
       "<div>\n",
       "<style scoped>\n",
       "    .dataframe tbody tr th:only-of-type {\n",
       "        vertical-align: middle;\n",
       "    }\n",
       "\n",
       "    .dataframe tbody tr th {\n",
       "        vertical-align: top;\n",
       "    }\n",
       "\n",
       "    .dataframe thead th {\n",
       "        text-align: right;\n",
       "    }\n",
       "</style>\n",
       "<table border=\"1\" class=\"dataframe\">\n",
       "  <thead>\n",
       "    <tr style=\"text-align: right;\">\n",
       "      <th></th>\n",
       "      <th>0</th>\n",
       "    </tr>\n",
       "  </thead>\n",
       "  <tbody>\n",
       "    <tr>\n",
       "      <th>0</th>\n",
       "      <td>NaN</td>\n",
       "    </tr>\n",
       "    <tr>\n",
       "      <th>1</th>\n",
       "      <td>0.997414</td>\n",
       "    </tr>\n",
       "    <tr>\n",
       "      <th>2</th>\n",
       "      <td>0.988824</td>\n",
       "    </tr>\n",
       "    <tr>\n",
       "      <th>3</th>\n",
       "      <td>0.979177</td>\n",
       "    </tr>\n",
       "    <tr>\n",
       "      <th>4</th>\n",
       "      <td>0.983597</td>\n",
       "    </tr>\n",
       "    <tr>\n",
       "      <th>...</th>\n",
       "      <td>...</td>\n",
       "    </tr>\n",
       "    <tr>\n",
       "      <th>8402</th>\n",
       "      <td>5.490657</td>\n",
       "    </tr>\n",
       "    <tr>\n",
       "      <th>8403</th>\n",
       "      <td>5.481342</td>\n",
       "    </tr>\n",
       "    <tr>\n",
       "      <th>8404</th>\n",
       "      <td>5.472663</td>\n",
       "    </tr>\n",
       "    <tr>\n",
       "      <th>8405</th>\n",
       "      <td>5.488852</td>\n",
       "    </tr>\n",
       "    <tr>\n",
       "      <th>8406</th>\n",
       "      <td>5.453846</td>\n",
       "    </tr>\n",
       "  </tbody>\n",
       "</table>\n",
       "<p>8407 rows × 1 columns</p>\n",
       "</div>"
      ],
      "text/plain": [
       "             0\n",
       "0          NaN\n",
       "1     0.997414\n",
       "2     0.988824\n",
       "3     0.979177\n",
       "4     0.983597\n",
       "...        ...\n",
       "8402  5.490657\n",
       "8403  5.481342\n",
       "8404  5.472663\n",
       "8405  5.488852\n",
       "8406  5.453846\n",
       "\n",
       "[8407 rows x 1 columns]"
      ]
     },
     "execution_count": 20,
     "metadata": {},
     "output_type": "execute_result"
    }
   ],
   "source": [
    "pd.DataFrame((np.array(df2.pct_change())*np.array(1-Position).reshape(-1,1)+1)* (np.array(df.pct_change())*np.array(Position).reshape(-1,1)+1)).cumprod()"
   ]
  },
  {
   "cell_type": "code",
   "execution_count": 276,
   "id": "88a4e6af",
   "metadata": {},
   "outputs": [
    {
     "data": {
      "text/plain": [
       "array([[nan],\n",
       "       [ 1.],\n",
       "       [ 1.],\n",
       "       ...,\n",
       "       [ 1.],\n",
       "       [ 1.],\n",
       "       [ 1.]])"
      ]
     },
     "execution_count": 276,
     "metadata": {},
     "output_type": "execute_result"
    }
   ],
   "source": [
    "(np.array(df.pct_change())*np.array(Position).reshape(-1,1)+1)"
   ]
  },
  {
   "cell_type": "code",
   "execution_count": 292,
   "id": "90e95a77",
   "metadata": {
    "scrolled": true
   },
   "outputs": [],
   "source": [
    "fuck = (pd.DataFrame(np.array(df.pct_change())*np.array(Position).reshape(-1,1),index =df.index).fillna(0))"
   ]
  },
  {
   "cell_type": "code",
   "execution_count": 305,
   "id": "6dd633ec",
   "metadata": {},
   "outputs": [
    {
     "data": {
      "text/html": [
       "<div>\n",
       "<style scoped>\n",
       "    .dataframe tbody tr th:only-of-type {\n",
       "        vertical-align: middle;\n",
       "    }\n",
       "\n",
       "    .dataframe tbody tr th {\n",
       "        vertical-align: top;\n",
       "    }\n",
       "\n",
       "    .dataframe thead th {\n",
       "        text-align: right;\n",
       "    }\n",
       "</style>\n",
       "<table border=\"1\" class=\"dataframe\">\n",
       "  <thead>\n",
       "    <tr style=\"text-align: right;\">\n",
       "      <th></th>\n",
       "      <th>Adj Close</th>\n",
       "    </tr>\n",
       "    <tr>\n",
       "      <th>Date</th>\n",
       "      <th></th>\n",
       "    </tr>\n",
       "  </thead>\n",
       "  <tbody>\n",
       "    <tr>\n",
       "      <th>2020-03-02</th>\n",
       "      <td>0.546592</td>\n",
       "    </tr>\n",
       "    <tr>\n",
       "      <th>2020-03-03</th>\n",
       "      <td>0.541226</td>\n",
       "    </tr>\n",
       "    <tr>\n",
       "      <th>2020-03-04</th>\n",
       "      <td>0.649548</td>\n",
       "    </tr>\n",
       "    <tr>\n",
       "      <th>2020-03-05</th>\n",
       "      <td>0.606808</td>\n",
       "    </tr>\n",
       "    <tr>\n",
       "      <th>2020-03-06</th>\n",
       "      <td>0.620706</td>\n",
       "    </tr>\n",
       "    <tr>\n",
       "      <th>2020-03-09</th>\n",
       "      <td>0.675226</td>\n",
       "    </tr>\n",
       "    <tr>\n",
       "      <th>2020-03-10</th>\n",
       "      <td>0.839404</td>\n",
       "    </tr>\n",
       "    <tr>\n",
       "      <th>2020-03-11</th>\n",
       "      <td>0.746472</td>\n",
       "    </tr>\n",
       "    <tr>\n",
       "      <th>2020-03-12</th>\n",
       "      <td>0.901408</td>\n",
       "    </tr>\n",
       "    <tr>\n",
       "      <th>2020-03-13</th>\n",
       "      <td>1.305770</td>\n",
       "    </tr>\n",
       "    <tr>\n",
       "      <th>2020-03-16</th>\n",
       "      <td>1.461539</td>\n",
       "    </tr>\n",
       "    <tr>\n",
       "      <th>2020-03-17</th>\n",
       "      <td>1.496587</td>\n",
       "    </tr>\n",
       "    <tr>\n",
       "      <th>2020-03-18</th>\n",
       "      <td>1.500057</td>\n",
       "    </tr>\n",
       "    <tr>\n",
       "      <th>2020-03-19</th>\n",
       "      <td>1.357480</td>\n",
       "    </tr>\n",
       "    <tr>\n",
       "      <th>2020-03-20</th>\n",
       "      <td>1.065570</td>\n",
       "    </tr>\n",
       "    <tr>\n",
       "      <th>2020-03-23</th>\n",
       "      <td>0.724234</td>\n",
       "    </tr>\n",
       "    <tr>\n",
       "      <th>2020-03-24</th>\n",
       "      <td>0.943023</td>\n",
       "    </tr>\n",
       "    <tr>\n",
       "      <th>2020-03-25</th>\n",
       "      <td>0.848100</td>\n",
       "    </tr>\n",
       "    <tr>\n",
       "      <th>2020-03-26</th>\n",
       "      <td>0.931088</td>\n",
       "    </tr>\n",
       "    <tr>\n",
       "      <th>2020-03-27</th>\n",
       "      <td>0.891971</td>\n",
       "    </tr>\n",
       "    <tr>\n",
       "      <th>2020-03-30</th>\n",
       "      <td>0.772490</td>\n",
       "    </tr>\n",
       "    <tr>\n",
       "      <th>2020-03-31</th>\n",
       "      <td>0.608420</td>\n",
       "    </tr>\n",
       "  </tbody>\n",
       "</table>\n",
       "</div>"
      ],
      "text/plain": [
       "            Adj Close\n",
       "Date                 \n",
       "2020-03-02   0.546592\n",
       "2020-03-03   0.541226\n",
       "2020-03-04   0.649548\n",
       "2020-03-05   0.606808\n",
       "2020-03-06   0.620706\n",
       "2020-03-09   0.675226\n",
       "2020-03-10   0.839404\n",
       "2020-03-11   0.746472\n",
       "2020-03-12   0.901408\n",
       "2020-03-13   1.305770\n",
       "2020-03-16   1.461539\n",
       "2020-03-17   1.496587\n",
       "2020-03-18   1.500057\n",
       "2020-03-19   1.357480\n",
       "2020-03-20   1.065570\n",
       "2020-03-23   0.724234\n",
       "2020-03-24   0.943023\n",
       "2020-03-25   0.848100\n",
       "2020-03-26   0.931088\n",
       "2020-03-27   0.891971\n",
       "2020-03-30   0.772490\n",
       "2020-03-31   0.608420"
      ]
     },
     "execution_count": 305,
     "metadata": {},
     "output_type": "execute_result"
    }
   ],
   "source": [
    "vol_20.loc[\"2020-3\"]"
   ]
  },
  {
   "cell_type": "code",
   "execution_count": 301,
   "id": "33dc134f",
   "metadata": {},
   "outputs": [
    {
     "data": {
      "text/html": [
       "<div>\n",
       "<style scoped>\n",
       "    .dataframe tbody tr th:only-of-type {\n",
       "        vertical-align: middle;\n",
       "    }\n",
       "\n",
       "    .dataframe tbody tr th {\n",
       "        vertical-align: top;\n",
       "    }\n",
       "\n",
       "    .dataframe thead th {\n",
       "        text-align: right;\n",
       "    }\n",
       "</style>\n",
       "<table border=\"1\" class=\"dataframe\">\n",
       "  <thead>\n",
       "    <tr style=\"text-align: right;\">\n",
       "      <th></th>\n",
       "      <th>0</th>\n",
       "    </tr>\n",
       "    <tr>\n",
       "      <th>Date</th>\n",
       "      <th></th>\n",
       "    </tr>\n",
       "  </thead>\n",
       "  <tbody>\n",
       "    <tr>\n",
       "      <th>2020-03-31</th>\n",
       "      <td>0.235541</td>\n",
       "    </tr>\n",
       "    <tr>\n",
       "      <th>1997-10-31</th>\n",
       "      <td>0.191122</td>\n",
       "    </tr>\n",
       "    <tr>\n",
       "      <th>2008-10-31</th>\n",
       "      <td>0.122750</td>\n",
       "    </tr>\n",
       "    <tr>\n",
       "      <th>2020-06-30</th>\n",
       "      <td>0.116118</td>\n",
       "    </tr>\n",
       "    <tr>\n",
       "      <th>2011-08-31</th>\n",
       "      <td>0.109129</td>\n",
       "    </tr>\n",
       "    <tr>\n",
       "      <th>2008-09-30</th>\n",
       "      <td>0.096085</td>\n",
       "    </tr>\n",
       "    <tr>\n",
       "      <th>2022-05-31</th>\n",
       "      <td>0.068883</td>\n",
       "    </tr>\n",
       "    <tr>\n",
       "      <th>2007-08-31</th>\n",
       "      <td>0.058625</td>\n",
       "    </tr>\n",
       "    <tr>\n",
       "      <th>1998-08-31</th>\n",
       "      <td>0.047273</td>\n",
       "    </tr>\n",
       "    <tr>\n",
       "      <th>2008-11-30</th>\n",
       "      <td>0.046095</td>\n",
       "    </tr>\n",
       "    <tr>\n",
       "      <th>2001-03-31</th>\n",
       "      <td>0.044668</td>\n",
       "    </tr>\n",
       "    <tr>\n",
       "      <th>2011-09-30</th>\n",
       "      <td>0.031028</td>\n",
       "    </tr>\n",
       "    <tr>\n",
       "      <th>2009-01-31</th>\n",
       "      <td>0.027994</td>\n",
       "    </tr>\n",
       "    <tr>\n",
       "      <th>2022-09-30</th>\n",
       "      <td>0.026485</td>\n",
       "    </tr>\n",
       "    <tr>\n",
       "      <th>2022-04-30</th>\n",
       "      <td>0.015689</td>\n",
       "    </tr>\n",
       "    <tr>\n",
       "      <th>2000-03-31</th>\n",
       "      <td>0.008283</td>\n",
       "    </tr>\n",
       "    <tr>\n",
       "      <th>2022-06-30</th>\n",
       "      <td>0.006026</td>\n",
       "    </tr>\n",
       "    <tr>\n",
       "      <th>2002-09-30</th>\n",
       "      <td>0.004243</td>\n",
       "    </tr>\n",
       "    <tr>\n",
       "      <th>2009-02-28</th>\n",
       "      <td>0.001547</td>\n",
       "    </tr>\n",
       "    <tr>\n",
       "      <th>2011-10-31</th>\n",
       "      <td>0.001256</td>\n",
       "    </tr>\n",
       "  </tbody>\n",
       "</table>\n",
       "</div>"
      ],
      "text/plain": [
       "                   0\n",
       "Date                \n",
       "2020-03-31  0.235541\n",
       "1997-10-31  0.191122\n",
       "2008-10-31  0.122750\n",
       "2020-06-30  0.116118\n",
       "2011-08-31  0.109129\n",
       "2008-09-30  0.096085\n",
       "2022-05-31  0.068883\n",
       "2007-08-31  0.058625\n",
       "1998-08-31  0.047273\n",
       "2008-11-30  0.046095\n",
       "2001-03-31  0.044668\n",
       "2011-09-30  0.031028\n",
       "2009-01-31  0.027994\n",
       "2022-09-30  0.026485\n",
       "2022-04-30  0.015689\n",
       "2000-03-31  0.008283\n",
       "2022-06-30  0.006026\n",
       "2002-09-30  0.004243\n",
       "2009-02-28  0.001547\n",
       "2011-10-31  0.001256"
      ]
     },
     "execution_count": 301,
     "metadata": {},
     "output_type": "execute_result"
    }
   ],
   "source": [
    "fuck.resample('M').sum().sort_values(0,ascending=False).head(20)"
   ]
  },
  {
   "cell_type": "code",
   "execution_count": 172,
   "id": "d8648948",
   "metadata": {},
   "outputs": [
    {
     "data": {
      "text/plain": [
       "array([0., 0., 0., ..., 0., 0., 0.])"
      ]
     },
     "execution_count": 172,
     "metadata": {},
     "output_type": "execute_result"
    }
   ],
   "source": [
    "np.array(Position)"
   ]
  },
  {
   "cell_type": "code",
   "execution_count": 89,
   "id": "e3f76ad0",
   "metadata": {},
   "outputs": [
    {
     "data": {
      "text/html": [
       "<div>\n",
       "<style scoped>\n",
       "    .dataframe tbody tr th:only-of-type {\n",
       "        vertical-align: middle;\n",
       "    }\n",
       "\n",
       "    .dataframe tbody tr th {\n",
       "        vertical-align: top;\n",
       "    }\n",
       "\n",
       "    .dataframe thead th {\n",
       "        text-align: right;\n",
       "    }\n",
       "</style>\n",
       "<table border=\"1\" class=\"dataframe\">\n",
       "  <thead>\n",
       "    <tr style=\"text-align: right;\">\n",
       "      <th></th>\n",
       "      <th>Adj Close</th>\n",
       "    </tr>\n",
       "    <tr>\n",
       "      <th>Date</th>\n",
       "      <th></th>\n",
       "    </tr>\n",
       "  </thead>\n",
       "  <tbody>\n",
       "    <tr>\n",
       "      <th>1990-01-02</th>\n",
       "      <td>0.153985</td>\n",
       "    </tr>\n",
       "    <tr>\n",
       "      <th>1990-01-03</th>\n",
       "      <td>0.107776</td>\n",
       "    </tr>\n",
       "    <tr>\n",
       "      <th>1990-01-04</th>\n",
       "      <td>0.144141</td>\n",
       "    </tr>\n",
       "    <tr>\n",
       "      <th>1990-01-05</th>\n",
       "      <td>0.109628</td>\n",
       "    </tr>\n",
       "    <tr>\n",
       "      <th>1990-01-08</th>\n",
       "      <td>-0.010419</td>\n",
       "    </tr>\n",
       "    <tr>\n",
       "      <th>...</th>\n",
       "      <td>...</td>\n",
       "    </tr>\n",
       "    <tr>\n",
       "      <th>2023-05-08</th>\n",
       "      <td>-0.002949</td>\n",
       "    </tr>\n",
       "    <tr>\n",
       "      <th>2023-05-09</th>\n",
       "      <td>-0.039153</td>\n",
       "    </tr>\n",
       "    <tr>\n",
       "      <th>2023-05-10</th>\n",
       "      <td>NaN</td>\n",
       "    </tr>\n",
       "    <tr>\n",
       "      <th>2023-05-11</th>\n",
       "      <td>NaN</td>\n",
       "    </tr>\n",
       "    <tr>\n",
       "      <th>2023-05-12</th>\n",
       "      <td>NaN</td>\n",
       "    </tr>\n",
       "  </tbody>\n",
       "</table>\n",
       "<p>8406 rows × 1 columns</p>\n",
       "</div>"
      ],
      "text/plain": [
       "            Adj Close\n",
       "Date                 \n",
       "1990-01-02   0.153985\n",
       "1990-01-03   0.107776\n",
       "1990-01-04   0.144141\n",
       "1990-01-05   0.109628\n",
       "1990-01-08  -0.010419\n",
       "...               ...\n",
       "2023-05-08  -0.002949\n",
       "2023-05-09  -0.039153\n",
       "2023-05-10        NaN\n",
       "2023-05-11        NaN\n",
       "2023-05-12        NaN\n",
       "\n",
       "[8406 rows x 1 columns]"
      ]
     },
     "execution_count": 89,
     "metadata": {},
     "output_type": "execute_result"
    }
   ],
   "source": [
    "np.log(df).diff().rolling(3).sum().shift(-3)"
   ]
  },
  {
   "cell_type": "code",
   "execution_count": 96,
   "id": "d09bc9d0",
   "metadata": {},
   "outputs": [
    {
     "data": {
      "text/plain": [
       "<matplotlib.collections.PathCollection at 0x1d3add4dd00>"
      ]
     },
     "execution_count": 96,
     "metadata": {},
     "output_type": "execute_result"
    },
    {
     "data": {
      "image/png": "[encoded data removed]",
      "text/plain": [
       "<Figure size 432x288 with 1 Axes>"
      ]
     },
     "metadata": {
      "needs_background": "light"
     },
     "output_type": "display_data"
    }
   ],
   "source": [
    "m=3\n",
    "plt.scatter(IVT,np.log(df).diff().rolling(m).sum().shift(-m))"
   ]
  },
  {
   "cell_type": "code",
   "execution_count": 108,
   "id": "b8cf7ddd",
   "metadata": {},
   "outputs": [],
   "source": [
    "total = pd.concat([IVT, df,np.log(df).diff().rolling(3).sum().shift(-3)], axis=1)"
   ]
  },
  {
   "cell_type": "code",
   "execution_count": 109,
   "id": "32374288",
   "metadata": {},
   "outputs": [],
   "source": [
    "total.columns = ['IVT','Price','ret_3']"
   ]
  },
  {
   "cell_type": "code",
   "execution_count": 126,
   "id": "31bfe32a",
   "metadata": {},
   "outputs": [
    {
     "data": {
      "text/plain": [
       "Date\n",
       "1990-01-02    False\n",
       "1990-01-03    False\n",
       "1990-01-04    False\n",
       "1990-01-05    False\n",
       "1990-01-08    False\n",
       "              ...  \n",
       "2023-05-08    False\n",
       "2023-05-09    False\n",
       "2023-05-10    False\n",
       "2023-05-11    False\n",
       "2023-05-12    False\n",
       "Name: Price, Length: 8406, dtype: bool"
      ]
     },
     "execution_count": 126,
     "metadata": {},
     "output_type": "execute_result"
    }
   ],
   "source": [
    "total['Price']<15"
   ]
  },
  {
   "cell_type": "code",
   "execution_count": 127,
   "id": "09bda185",
   "metadata": {},
   "outputs": [],
   "source": [
    "t=[]\n",
    "for bar in range(len(total)):\n",
    "    if total['Price'].iloc[bar]<15:\n",
    "        t.append(0)\n",
    "    elif total['Price'].iloc[bar]<20:\n",
    "        t.append(1)\n",
    "    elif total['Price'].iloc[bar]<25:\n",
    "        t.append(2)\n",
    "    elif total['Price'].iloc[bar]<30:\n",
    "        t.append(3)\n",
    "    elif total['Price'].iloc[bar]<35:\n",
    "        t.append(4)\n",
    "    elif total['Price'].iloc[bar]<40:\n",
    "        t.append(5)\n",
    "    else:\n",
    "        t.append(6)"
   ]
  },
  {
   "cell_type": "code",
   "execution_count": 129,
   "id": "f9881440",
   "metadata": {},
   "outputs": [],
   "source": [
    "total['price2'] = t"
   ]
  },
  {
   "cell_type": "code",
   "execution_count": 134,
   "id": "74b3c849",
   "metadata": {},
   "outputs": [],
   "source": [
    "aa =total.groupby([\"IVT\",'price2'])['ret_3'].mean()"
   ]
  },
  {
   "cell_type": "code",
   "execution_count": 139,
   "id": "d43656a2",
   "metadata": {},
   "outputs": [],
   "source": [
    "pd.set_option('display.max_rows', None)"
   ]
  },
  {
   "cell_type": "code",
   "execution_count": 151,
   "id": "272d44b4",
   "metadata": {},
   "outputs": [],
   "source": [
    "pd.reset_option('display.max_rows')"
   ]
  },
  {
   "cell_type": "code",
   "execution_count": 152,
   "id": "b8b97d86",
   "metadata": {},
   "outputs": [
    {
     "data": {
      "text/plain": [
       "<pandas.core.groupby.generic.SeriesGroupBy object at 0x000001D3AFF90B80>"
      ]
     },
     "execution_count": 152,
     "metadata": {},
     "output_type": "execute_result"
    }
   ],
   "source": [
    "total.groupby([\"IVT\",'price2'])['ret_3']"
   ]
  },
  {
   "cell_type": "code",
   "execution_count": 153,
   "id": "8104d81b",
   "metadata": {},
   "outputs": [
    {
     "data": {
      "text/html": [
       "<div>\n",
       "<style scoped>\n",
       "    .dataframe tbody tr th:only-of-type {\n",
       "        vertical-align: middle;\n",
       "    }\n",
       "\n",
       "    .dataframe tbody tr th {\n",
       "        vertical-align: top;\n",
       "    }\n",
       "\n",
       "    .dataframe thead th {\n",
       "        text-align: right;\n",
       "    }\n",
       "</style>\n",
       "<table border=\"1\" class=\"dataframe\">\n",
       "  <thead>\n",
       "    <tr style=\"text-align: right;\">\n",
       "      <th></th>\n",
       "      <th>IVT</th>\n",
       "      <th>Price</th>\n",
       "      <th>ret_3</th>\n",
       "      <th>price2</th>\n",
       "    </tr>\n",
       "    <tr>\n",
       "      <th>Date</th>\n",
       "      <th></th>\n",
       "      <th></th>\n",
       "      <th></th>\n",
       "      <th></th>\n",
       "    </tr>\n",
       "  </thead>\n",
       "  <tbody>\n",
       "    <tr>\n",
       "      <th>1990-01-02</th>\n",
       "      <td>NaN</td>\n",
       "      <td>17.240000</td>\n",
       "      <td>0.153985</td>\n",
       "      <td>1</td>\n",
       "    </tr>\n",
       "    <tr>\n",
       "      <th>1990-01-03</th>\n",
       "      <td>NaN</td>\n",
       "      <td>18.190001</td>\n",
       "      <td>0.107776</td>\n",
       "      <td>1</td>\n",
       "    </tr>\n",
       "    <tr>\n",
       "      <th>1990-01-04</th>\n",
       "      <td>NaN</td>\n",
       "      <td>19.219999</td>\n",
       "      <td>0.144141</td>\n",
       "      <td>1</td>\n",
       "    </tr>\n",
       "    <tr>\n",
       "      <th>1990-01-05</th>\n",
       "      <td>NaN</td>\n",
       "      <td>20.110001</td>\n",
       "      <td>0.109628</td>\n",
       "      <td>2</td>\n",
       "    </tr>\n",
       "    <tr>\n",
       "      <th>1990-01-08</th>\n",
       "      <td>NaN</td>\n",
       "      <td>20.260000</td>\n",
       "      <td>-0.010419</td>\n",
       "      <td>2</td>\n",
       "    </tr>\n",
       "    <tr>\n",
       "      <th>...</th>\n",
       "      <td>...</td>\n",
       "      <td>...</td>\n",
       "      <td>...</td>\n",
       "      <td>...</td>\n",
       "    </tr>\n",
       "    <tr>\n",
       "      <th>2023-05-08</th>\n",
       "      <td>0.0</td>\n",
       "      <td>16.980000</td>\n",
       "      <td>-0.002949</td>\n",
       "      <td>1</td>\n",
       "    </tr>\n",
       "    <tr>\n",
       "      <th>2023-05-09</th>\n",
       "      <td>-2.0</td>\n",
       "      <td>17.709999</td>\n",
       "      <td>-0.039153</td>\n",
       "      <td>1</td>\n",
       "    </tr>\n",
       "    <tr>\n",
       "      <th>2023-05-10</th>\n",
       "      <td>-4.0</td>\n",
       "      <td>16.940001</td>\n",
       "      <td>NaN</td>\n",
       "      <td>1</td>\n",
       "    </tr>\n",
       "    <tr>\n",
       "      <th>2023-05-11</th>\n",
       "      <td>-4.0</td>\n",
       "      <td>16.930000</td>\n",
       "      <td>NaN</td>\n",
       "      <td>1</td>\n",
       "    </tr>\n",
       "    <tr>\n",
       "      <th>2023-05-12</th>\n",
       "      <td>-4.0</td>\n",
       "      <td>17.030001</td>\n",
       "      <td>NaN</td>\n",
       "      <td>1</td>\n",
       "    </tr>\n",
       "  </tbody>\n",
       "</table>\n",
       "<p>8406 rows × 4 columns</p>\n",
       "</div>"
      ],
      "text/plain": [
       "            IVT      Price     ret_3  price2\n",
       "Date                                        \n",
       "1990-01-02  NaN  17.240000  0.153985       1\n",
       "1990-01-03  NaN  18.190001  0.107776       1\n",
       "1990-01-04  NaN  19.219999  0.144141       1\n",
       "1990-01-05  NaN  20.110001  0.109628       2\n",
       "1990-01-08  NaN  20.260000 -0.010419       2\n",
       "...         ...        ...       ...     ...\n",
       "2023-05-08  0.0  16.980000 -0.002949       1\n",
       "2023-05-09 -2.0  17.709999 -0.039153       1\n",
       "2023-05-10 -4.0  16.940001       NaN       1\n",
       "2023-05-11 -4.0  16.930000       NaN       1\n",
       "2023-05-12 -4.0  17.030001       NaN       1\n",
       "\n",
       "[8406 rows x 4 columns]"
      ]
     },
     "execution_count": 153,
     "metadata": {},
     "output_type": "execute_result"
    }
   ],
   "source": [
    "total"
   ]
  },
  {
   "cell_type": "code",
   "execution_count": 149,
   "id": "8499b872",
   "metadata": {},
   "outputs": [
    {
     "data": {
      "text/plain": [
       "IVT    price2\n",
       "-10.0  0         0.678571\n",
       "       1         0.428571\n",
       "       2         0.645161\n",
       "       3         0.454545\n",
       "       4         0.750000\n",
       "       5         1.000000\n",
       "       6         0.400000\n",
       "-8.0   0         0.640351\n",
       "       1         0.568000\n",
       "       2         0.589041\n",
       "       3         0.454545\n",
       "       4         0.400000\n",
       "       5              NaN\n",
       "       6         0.062500\n",
       "-6.0   0         0.588608\n",
       "       1         0.550000\n",
       "       2         0.451128\n",
       "       3         0.551020\n",
       "       4         0.428571\n",
       "       5              NaN\n",
       "       6         0.416667\n",
       "-4.0   0         0.617021\n",
       "       1         0.558824\n",
       "       2         0.447876\n",
       "       3         0.428571\n",
       "       4         0.527778\n",
       "       5         0.333333\n",
       "       6         0.400000\n",
       "-2.0   0         0.541667\n",
       "       1         0.515766\n",
       "       2         0.485623\n",
       "       3         0.373239\n",
       "       4         0.318182\n",
       "       5         0.250000\n",
       "       6         0.324324\n",
       " 0.0   0         0.501818\n",
       "       1         0.454545\n",
       "       2         0.450794\n",
       "       3         0.437500\n",
       "       4         0.300000\n",
       "       5         0.357143\n",
       "       6         0.407407\n",
       " 2.0   0         0.457064\n",
       "       1         0.475362\n",
       "       2         0.440433\n",
       "       3         0.474820\n",
       "       4         0.338235\n",
       "       5         0.370370\n",
       "       6         0.406250\n",
       " 4.0   0         0.435644\n",
       "       1         0.393305\n",
       "       2         0.391089\n",
       "       3         0.428571\n",
       "       4         0.302326\n",
       "       5         0.133333\n",
       "       6         0.200000\n",
       " 6.0   0         0.443038\n",
       "       1         0.344000\n",
       "       2         0.413043\n",
       "       3         0.309859\n",
       "       4         0.333333\n",
       "       5         0.312500\n",
       "       6         0.391304\n",
       " 8.0   0         0.322581\n",
       "       1         0.333333\n",
       "       2         0.576923\n",
       "       3         0.323529\n",
       "       4         0.350000\n",
       "       5         0.500000\n",
       "       6         0.307692\n",
       " 10.0  0         1.000000\n",
       "       1         0.235294\n",
       "       2              NaN\n",
       "       3         0.666667\n",
       "       4         0.636364\n",
       "       5         0.400000\n",
       "       6         0.111111\n",
       "Name: ret_3, dtype: float64"
      ]
     },
     "execution_count": 149,
     "metadata": {},
     "output_type": "execute_result"
    }
   ],
   "source": [
    "total[total['ret_3'] >= 0].groupby([\"IVT\", 'price2'])['ret_3'].count()/total.groupby([\"IVT\", 'price2'])['ret_3'].count()"
   ]
  },
  {
   "cell_type": "code",
   "execution_count": 142,
   "id": "7070fce4",
   "metadata": {
    "scrolled": false
   },
   "outputs": [
    {
     "ename": "TypeError",
     "evalue": "scatter() missing 1 required positional argument: 'y'",
     "output_type": "error",
     "traceback": [
      "\u001b[1;31m---------------------------------------------------------------------------\u001b[0m",
      "\u001b[1;31mTypeError\u001b[0m                                 Traceback (most recent call last)",
      "Input \u001b[1;32mIn [142]\u001b[0m, in \u001b[0;36m<cell line: 1>\u001b[1;34m()\u001b[0m\n\u001b[1;32m----> 1\u001b[0m \u001b[43mplt\u001b[49m\u001b[38;5;241;43m.\u001b[39;49m\u001b[43mscatter\u001b[49m\u001b[43m(\u001b[49m\u001b[43maa\u001b[49m\u001b[43m)\u001b[49m\n",
      "\u001b[1;31mTypeError\u001b[0m: scatter() missing 1 required positional argument: 'y'"
     ]
    }
   ],
   "source": [
    "plt.scatter(aa)"
   ]
  },
  {
   "cell_type": "code",
   "execution_count": 121,
   "id": "9a002f4b",
   "metadata": {
    "scrolled": true
   },
   "outputs": [
    {
     "name": "stderr",
     "output_type": "stream",
     "text": [
      "C:\\Users\\seongsh\\AppData\\Local\\Temp\\ipykernel_15812\\1267535859.py:1: FutureWarning: Indexing with multiple keys (implicitly converted to a tuple of keys) will be deprecated, use a list instead.\n",
      "  total.groupby(\"IVT\")['Price','ret_3'].median()\n"
     ]
    },
    {
     "data": {
      "text/html": [
       "<div>\n",
       "<style scoped>\n",
       "    .dataframe tbody tr th:only-of-type {\n",
       "        vertical-align: middle;\n",
       "    }\n",
       "\n",
       "    .dataframe tbody tr th {\n",
       "        vertical-align: top;\n",
       "    }\n",
       "\n",
       "    .dataframe thead th {\n",
       "        text-align: right;\n",
       "    }\n",
       "</style>\n",
       "<table border=\"1\" class=\"dataframe\">\n",
       "  <thead>\n",
       "    <tr style=\"text-align: right;\">\n",
       "      <th></th>\n",
       "      <th>Price</th>\n",
       "      <th>ret_3</th>\n",
       "    </tr>\n",
       "    <tr>\n",
       "      <th>IVT</th>\n",
       "      <th></th>\n",
       "      <th></th>\n",
       "    </tr>\n",
       "  </thead>\n",
       "  <tbody>\n",
       "    <tr>\n",
       "      <th>-10.0</th>\n",
       "      <td>18.155000</td>\n",
       "      <td>0.013897</td>\n",
       "    </tr>\n",
       "    <tr>\n",
       "      <th>-8.0</th>\n",
       "      <td>16.995000</td>\n",
       "      <td>0.017659</td>\n",
       "    </tr>\n",
       "    <tr>\n",
       "      <th>-6.0</th>\n",
       "      <td>15.980000</td>\n",
       "      <td>0.006723</td>\n",
       "    </tr>\n",
       "    <tr>\n",
       "      <th>-4.0</th>\n",
       "      <td>17.175000</td>\n",
       "      <td>0.007905</td>\n",
       "    </tr>\n",
       "    <tr>\n",
       "      <th>-2.0</th>\n",
       "      <td>17.485000</td>\n",
       "      <td>-0.003081</td>\n",
       "    </tr>\n",
       "    <tr>\n",
       "      <th>0.0</th>\n",
       "      <td>17.360001</td>\n",
       "      <td>-0.006195</td>\n",
       "    </tr>\n",
       "    <tr>\n",
       "      <th>2.0</th>\n",
       "      <td>18.610001</td>\n",
       "      <td>-0.011209</td>\n",
       "    </tr>\n",
       "    <tr>\n",
       "      <th>4.0</th>\n",
       "      <td>19.340000</td>\n",
       "      <td>-0.025112</td>\n",
       "    </tr>\n",
       "    <tr>\n",
       "      <th>6.0</th>\n",
       "      <td>20.635000</td>\n",
       "      <td>-0.036146</td>\n",
       "    </tr>\n",
       "    <tr>\n",
       "      <th>8.0</th>\n",
       "      <td>22.120000</td>\n",
       "      <td>-0.029716</td>\n",
       "    </tr>\n",
       "    <tr>\n",
       "      <th>10.0</th>\n",
       "      <td>26.955000</td>\n",
       "      <td>-0.069735</td>\n",
       "    </tr>\n",
       "  </tbody>\n",
       "</table>\n",
       "</div>"
      ],
      "text/plain": [
       "           Price     ret_3\n",
       "IVT                       \n",
       "-10.0  18.155000  0.013897\n",
       "-8.0   16.995000  0.017659\n",
       "-6.0   15.980000  0.006723\n",
       "-4.0   17.175000  0.007905\n",
       "-2.0   17.485000 -0.003081\n",
       " 0.0   17.360001 -0.006195\n",
       " 2.0   18.610001 -0.011209\n",
       " 4.0   19.340000 -0.025112\n",
       " 6.0   20.635000 -0.036146\n",
       " 8.0   22.120000 -0.029716\n",
       " 10.0  26.955000 -0.069735"
      ]
     },
     "execution_count": 121,
     "metadata": {},
     "output_type": "execute_result"
    }
   ],
   "source": [
    "total.groupby(\"IVT\")['Price','ret_3'].median()"
   ]
  },
  {
   "cell_type": "code",
   "execution_count": 117,
   "id": "cd038255",
   "metadata": {},
   "outputs": [
    {
     "data": {
      "text/html": [
       "<div>\n",
       "<style scoped>\n",
       "    .dataframe tbody tr th:only-of-type {\n",
       "        vertical-align: middle;\n",
       "    }\n",
       "\n",
       "    .dataframe tbody tr th {\n",
       "        vertical-align: top;\n",
       "    }\n",
       "\n",
       "    .dataframe thead th {\n",
       "        text-align: right;\n",
       "    }\n",
       "</style>\n",
       "<table border=\"1\" class=\"dataframe\">\n",
       "  <thead>\n",
       "    <tr style=\"text-align: right;\">\n",
       "      <th></th>\n",
       "      <th>IVT</th>\n",
       "      <th>Price</th>\n",
       "      <th>ret_3</th>\n",
       "    </tr>\n",
       "    <tr>\n",
       "      <th>Date</th>\n",
       "      <th></th>\n",
       "      <th></th>\n",
       "      <th></th>\n",
       "    </tr>\n",
       "  </thead>\n",
       "  <tbody>\n",
       "    <tr>\n",
       "      <th>1990-01-02</th>\n",
       "      <td>NaN</td>\n",
       "      <td>17.240000</td>\n",
       "      <td>0.153985</td>\n",
       "    </tr>\n",
       "    <tr>\n",
       "      <th>1990-01-03</th>\n",
       "      <td>NaN</td>\n",
       "      <td>18.190001</td>\n",
       "      <td>0.107776</td>\n",
       "    </tr>\n",
       "    <tr>\n",
       "      <th>1990-01-04</th>\n",
       "      <td>NaN</td>\n",
       "      <td>19.219999</td>\n",
       "      <td>0.144141</td>\n",
       "    </tr>\n",
       "    <tr>\n",
       "      <th>1990-01-05</th>\n",
       "      <td>NaN</td>\n",
       "      <td>20.110001</td>\n",
       "      <td>0.109628</td>\n",
       "    </tr>\n",
       "    <tr>\n",
       "      <th>1990-01-08</th>\n",
       "      <td>NaN</td>\n",
       "      <td>20.260000</td>\n",
       "      <td>-0.010419</td>\n",
       "    </tr>\n",
       "    <tr>\n",
       "      <th>...</th>\n",
       "      <td>...</td>\n",
       "      <td>...</td>\n",
       "      <td>...</td>\n",
       "    </tr>\n",
       "    <tr>\n",
       "      <th>2023-05-08</th>\n",
       "      <td>0.0</td>\n",
       "      <td>16.980000</td>\n",
       "      <td>-0.002949</td>\n",
       "    </tr>\n",
       "    <tr>\n",
       "      <th>2023-05-09</th>\n",
       "      <td>-2.0</td>\n",
       "      <td>17.709999</td>\n",
       "      <td>-0.039153</td>\n",
       "    </tr>\n",
       "    <tr>\n",
       "      <th>2023-05-10</th>\n",
       "      <td>-4.0</td>\n",
       "      <td>16.940001</td>\n",
       "      <td>NaN</td>\n",
       "    </tr>\n",
       "    <tr>\n",
       "      <th>2023-05-11</th>\n",
       "      <td>-4.0</td>\n",
       "      <td>16.930000</td>\n",
       "      <td>NaN</td>\n",
       "    </tr>\n",
       "    <tr>\n",
       "      <th>2023-05-12</th>\n",
       "      <td>-4.0</td>\n",
       "      <td>17.030001</td>\n",
       "      <td>NaN</td>\n",
       "    </tr>\n",
       "  </tbody>\n",
       "</table>\n",
       "<p>8406 rows × 3 columns</p>\n",
       "</div>"
      ],
      "text/plain": [
       "            IVT      Price     ret_3\n",
       "Date                                \n",
       "1990-01-02  NaN  17.240000  0.153985\n",
       "1990-01-03  NaN  18.190001  0.107776\n",
       "1990-01-04  NaN  19.219999  0.144141\n",
       "1990-01-05  NaN  20.110001  0.109628\n",
       "1990-01-08  NaN  20.260000 -0.010419\n",
       "...         ...        ...       ...\n",
       "2023-05-08  0.0  16.980000 -0.002949\n",
       "2023-05-09 -2.0  17.709999 -0.039153\n",
       "2023-05-10 -4.0  16.940001       NaN\n",
       "2023-05-11 -4.0  16.930000       NaN\n",
       "2023-05-12 -4.0  17.030001       NaN\n",
       "\n",
       "[8406 rows x 3 columns]"
      ]
     },
     "execution_count": 117,
     "metadata": {},
     "output_type": "execute_result"
    }
   ],
   "source": [
    "total"
   ]
  },
  {
   "cell_type": "code",
   "execution_count": 75,
   "id": "2c11ef4f",
   "metadata": {},
   "outputs": [
    {
     "data": {
      "text/html": [
       "<div>\n",
       "<style scoped>\n",
       "    .dataframe tbody tr th:only-of-type {\n",
       "        vertical-align: middle;\n",
       "    }\n",
       "\n",
       "    .dataframe tbody tr th {\n",
       "        vertical-align: top;\n",
       "    }\n",
       "\n",
       "    .dataframe thead th {\n",
       "        text-align: right;\n",
       "    }\n",
       "</style>\n",
       "<table border=\"1\" class=\"dataframe\">\n",
       "  <thead>\n",
       "    <tr style=\"text-align: right;\">\n",
       "      <th></th>\n",
       "      <th>Adj Close</th>\n",
       "    </tr>\n",
       "    <tr>\n",
       "      <th>Date</th>\n",
       "      <th></th>\n",
       "    </tr>\n",
       "  </thead>\n",
       "  <tbody>\n",
       "    <tr>\n",
       "      <th>1990-01-02</th>\n",
       "      <td>NaN</td>\n",
       "    </tr>\n",
       "    <tr>\n",
       "      <th>1990-01-03</th>\n",
       "      <td>0.055104</td>\n",
       "    </tr>\n",
       "    <tr>\n",
       "      <th>1990-01-04</th>\n",
       "      <td>0.056624</td>\n",
       "    </tr>\n",
       "    <tr>\n",
       "      <th>1990-01-05</th>\n",
       "      <td>0.046306</td>\n",
       "    </tr>\n",
       "    <tr>\n",
       "      <th>1990-01-08</th>\n",
       "      <td>0.007459</td>\n",
       "    </tr>\n",
       "    <tr>\n",
       "      <th>...</th>\n",
       "      <td>...</td>\n",
       "    </tr>\n",
       "    <tr>\n",
       "      <th>2023-05-08</th>\n",
       "      <td>-0.012216</td>\n",
       "    </tr>\n",
       "    <tr>\n",
       "      <th>2023-05-09</th>\n",
       "      <td>0.042992</td>\n",
       "    </tr>\n",
       "    <tr>\n",
       "      <th>2023-05-10</th>\n",
       "      <td>-0.043478</td>\n",
       "    </tr>\n",
       "    <tr>\n",
       "      <th>2023-05-11</th>\n",
       "      <td>-0.000590</td>\n",
       "    </tr>\n",
       "    <tr>\n",
       "      <th>2023-05-12</th>\n",
       "      <td>0.005907</td>\n",
       "    </tr>\n",
       "  </tbody>\n",
       "</table>\n",
       "<p>8406 rows × 1 columns</p>\n",
       "</div>"
      ],
      "text/plain": [
       "            Adj Close\n",
       "Date                 \n",
       "1990-01-02        NaN\n",
       "1990-01-03   0.055104\n",
       "1990-01-04   0.056624\n",
       "1990-01-05   0.046306\n",
       "1990-01-08   0.007459\n",
       "...               ...\n",
       "2023-05-08  -0.012216\n",
       "2023-05-09   0.042992\n",
       "2023-05-10  -0.043478\n",
       "2023-05-11  -0.000590\n",
       "2023-05-12   0.005907\n",
       "\n",
       "[8406 rows x 1 columns]"
      ]
     },
     "execution_count": 75,
     "metadata": {},
     "output_type": "execute_result"
    }
   ],
   "source": [
    "plt.scatter(IVT,np.log(df).diff().rolling(3).sum().shift(-3))"
   ]
  },
  {
   "cell_type": "code",
   "execution_count": null,
   "id": "f6f2ed37",
   "metadata": {},
   "outputs": [],
   "source": []
  }
 ],
 "metadata": {
  "kernelspec": {
   "display_name": "py38_32",
   "language": "python",
   "name": "py38_32"
  },
  "language_info": {
   "codemirror_mode": {
    "name": "ipython",
    "version": 3
   },
   "file_extension": ".py",
   "mimetype": "text/x-python",
   "name": "python",
   "nbconvert_exporter": "python",
   "pygments_lexer": "ipython3",
   "version": "3.8.16"
  }
 },
 "nbformat": 4,
 "nbformat_minor": 5
}
